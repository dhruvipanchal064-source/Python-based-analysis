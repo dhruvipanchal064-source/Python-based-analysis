{
 "cells": [
  {
   "cell_type": "code",
   "execution_count": 1,
   "id": "182a60ca",
   "metadata": {},
   "outputs": [],
   "source": [
    "import pandas as pd\n",
    "import numpy as np\n",
    "import plotly.express as px\n",
    "import plotly.io as pio\n",
    "from sklearn.model_selection import train_test_split\n",
    "from sklearn.ensemble import RandomForestRegressor\n",
    "from sklearn.metrics import mean_squared_error, r2_score\n",
    "from nltk.sentiment.vader import SentimentIntensityAnalyzer\n",
    "import nltk\n",
    "import webbrowser\n",
    "import os"
   ]
  },
  {
   "cell_type": "code",
   "execution_count": 2,
   "id": "5927bb05",
   "metadata": {},
   "outputs": [
    {
     "name": "stderr",
     "output_type": "stream",
     "text": [
      "[nltk_data] Downloading package vader_lexicon to\n",
      "[nltk_data]     C:\\Users\\dhruv\\AppData\\Roaming\\nltk_data...\n",
      "[nltk_data]   Package vader_lexicon is already up-to-date!\n"
     ]
    },
    {
     "data": {
      "text/plain": [
       "True"
      ]
     },
     "execution_count": 2,
     "metadata": {},
     "output_type": "execute_result"
    }
   ],
   "source": [
    "nltk.download('vader_lexicon')"
   ]
  },
  {
   "cell_type": "code",
   "execution_count": 3,
   "id": "37833537",
   "metadata": {},
   "outputs": [
    {
     "data": {
      "text/plain": [
       "'d:\\\\Internship\\\\Microsoft VS Code\\\\Google-Play-Store-Analytics-main'"
      ]
     },
     "execution_count": 3,
     "metadata": {},
     "output_type": "execute_result"
    }
   ],
   "source": [
    "import os\n",
    "os.getcwd()"
   ]
  },
  {
   "cell_type": "code",
   "execution_count": 2,
   "id": "4a2f71e5",
   "metadata": {},
   "outputs": [],
   "source": [
    "apps_df=pd.read_csv('Play Store Data.csv')\n",
    "reviews_df=pd.read_csv('User Reviews.csv')"
   ]
  },
  {
   "cell_type": "code",
   "execution_count": 5,
   "id": "8e108fe4",
   "metadata": {},
   "outputs": [
    {
     "data": {
      "text/html": [
       "<div>\n",
       "<style scoped>\n",
       "    .dataframe tbody tr th:only-of-type {\n",
       "        vertical-align: middle;\n",
       "    }\n",
       "\n",
       "    .dataframe tbody tr th {\n",
       "        vertical-align: top;\n",
       "    }\n",
       "\n",
       "    .dataframe thead th {\n",
       "        text-align: right;\n",
       "    }\n",
       "</style>\n",
       "<table border=\"1\" class=\"dataframe\">\n",
       "  <thead>\n",
       "    <tr style=\"text-align: right;\">\n",
       "      <th></th>\n",
       "      <th>App</th>\n",
       "      <th>Category</th>\n",
       "      <th>Rating</th>\n",
       "      <th>Reviews</th>\n",
       "      <th>Size</th>\n",
       "      <th>Installs</th>\n",
       "      <th>Type</th>\n",
       "      <th>Price</th>\n",
       "      <th>Content Rating</th>\n",
       "      <th>Genres</th>\n",
       "      <th>Last Updated</th>\n",
       "      <th>Current Ver</th>\n",
       "      <th>Android Ver</th>\n",
       "    </tr>\n",
       "  </thead>\n",
       "  <tbody>\n",
       "    <tr>\n",
       "      <th>0</th>\n",
       "      <td>Photo Editor &amp; Candy Camera &amp; Grid &amp; ScrapBook</td>\n",
       "      <td>ART_AND_DESIGN</td>\n",
       "      <td>4.1</td>\n",
       "      <td>159</td>\n",
       "      <td>19M</td>\n",
       "      <td>10,000+</td>\n",
       "      <td>Free</td>\n",
       "      <td>0</td>\n",
       "      <td>Everyone</td>\n",
       "      <td>Art &amp; Design</td>\n",
       "      <td>January 7, 2018</td>\n",
       "      <td>1.0.0</td>\n",
       "      <td>4.0.3 and up</td>\n",
       "    </tr>\n",
       "    <tr>\n",
       "      <th>1</th>\n",
       "      <td>Coloring book moana</td>\n",
       "      <td>ART_AND_DESIGN</td>\n",
       "      <td>3.9</td>\n",
       "      <td>967</td>\n",
       "      <td>14M</td>\n",
       "      <td>500,000+</td>\n",
       "      <td>Free</td>\n",
       "      <td>0</td>\n",
       "      <td>Everyone</td>\n",
       "      <td>Art &amp; Design;Pretend Play</td>\n",
       "      <td>January 15, 2018</td>\n",
       "      <td>2.0.0</td>\n",
       "      <td>4.0.3 and up</td>\n",
       "    </tr>\n",
       "    <tr>\n",
       "      <th>2</th>\n",
       "      <td>U Launcher Lite – FREE Live Cool Themes, Hide ...</td>\n",
       "      <td>ART_AND_DESIGN</td>\n",
       "      <td>4.7</td>\n",
       "      <td>87510</td>\n",
       "      <td>8.7M</td>\n",
       "      <td>5,000,000+</td>\n",
       "      <td>Free</td>\n",
       "      <td>0</td>\n",
       "      <td>Everyone</td>\n",
       "      <td>Art &amp; Design</td>\n",
       "      <td>August 1, 2018</td>\n",
       "      <td>1.2.4</td>\n",
       "      <td>4.0.3 and up</td>\n",
       "    </tr>\n",
       "    <tr>\n",
       "      <th>3</th>\n",
       "      <td>Sketch - Draw &amp; Paint</td>\n",
       "      <td>ART_AND_DESIGN</td>\n",
       "      <td>4.5</td>\n",
       "      <td>215644</td>\n",
       "      <td>25M</td>\n",
       "      <td>50,000,000+</td>\n",
       "      <td>Free</td>\n",
       "      <td>0</td>\n",
       "      <td>Teen</td>\n",
       "      <td>Art &amp; Design</td>\n",
       "      <td>June 8, 2018</td>\n",
       "      <td>Varies with device</td>\n",
       "      <td>4.2 and up</td>\n",
       "    </tr>\n",
       "    <tr>\n",
       "      <th>4</th>\n",
       "      <td>Pixel Draw - Number Art Coloring Book</td>\n",
       "      <td>ART_AND_DESIGN</td>\n",
       "      <td>4.3</td>\n",
       "      <td>967</td>\n",
       "      <td>2.8M</td>\n",
       "      <td>100,000+</td>\n",
       "      <td>Free</td>\n",
       "      <td>0</td>\n",
       "      <td>Everyone</td>\n",
       "      <td>Art &amp; Design;Creativity</td>\n",
       "      <td>June 20, 2018</td>\n",
       "      <td>1.1</td>\n",
       "      <td>4.4 and up</td>\n",
       "    </tr>\n",
       "  </tbody>\n",
       "</table>\n",
       "</div>"
      ],
      "text/plain": [
       "                                                 App        Category  Rating  \\\n",
       "0     Photo Editor & Candy Camera & Grid & ScrapBook  ART_AND_DESIGN     4.1   \n",
       "1                                Coloring book moana  ART_AND_DESIGN     3.9   \n",
       "2  U Launcher Lite – FREE Live Cool Themes, Hide ...  ART_AND_DESIGN     4.7   \n",
       "3                              Sketch - Draw & Paint  ART_AND_DESIGN     4.5   \n",
       "4              Pixel Draw - Number Art Coloring Book  ART_AND_DESIGN     4.3   \n",
       "\n",
       "  Reviews  Size     Installs  Type Price Content Rating  \\\n",
       "0     159   19M      10,000+  Free     0       Everyone   \n",
       "1     967   14M     500,000+  Free     0       Everyone   \n",
       "2   87510  8.7M   5,000,000+  Free     0       Everyone   \n",
       "3  215644   25M  50,000,000+  Free     0           Teen   \n",
       "4     967  2.8M     100,000+  Free     0       Everyone   \n",
       "\n",
       "                      Genres      Last Updated         Current Ver  \\\n",
       "0               Art & Design   January 7, 2018               1.0.0   \n",
       "1  Art & Design;Pretend Play  January 15, 2018               2.0.0   \n",
       "2               Art & Design    August 1, 2018               1.2.4   \n",
       "3               Art & Design      June 8, 2018  Varies with device   \n",
       "4    Art & Design;Creativity     June 20, 2018                 1.1   \n",
       "\n",
       "    Android Ver  \n",
       "0  4.0.3 and up  \n",
       "1  4.0.3 and up  \n",
       "2  4.0.3 and up  \n",
       "3    4.2 and up  \n",
       "4    4.4 and up  "
      ]
     },
     "execution_count": 5,
     "metadata": {},
     "output_type": "execute_result"
    }
   ],
   "source": [
    "apps_df.head()"
   ]
  },
  {
   "cell_type": "code",
   "execution_count": 6,
   "id": "209d6cd6",
   "metadata": {},
   "outputs": [
    {
     "data": {
      "text/html": [
       "<div>\n",
       "<style scoped>\n",
       "    .dataframe tbody tr th:only-of-type {\n",
       "        vertical-align: middle;\n",
       "    }\n",
       "\n",
       "    .dataframe tbody tr th {\n",
       "        vertical-align: top;\n",
       "    }\n",
       "\n",
       "    .dataframe thead th {\n",
       "        text-align: right;\n",
       "    }\n",
       "</style>\n",
       "<table border=\"1\" class=\"dataframe\">\n",
       "  <thead>\n",
       "    <tr style=\"text-align: right;\">\n",
       "      <th></th>\n",
       "      <th>App</th>\n",
       "      <th>Translated_Review</th>\n",
       "      <th>Sentiment</th>\n",
       "      <th>Sentiment_Polarity</th>\n",
       "      <th>Sentiment_Subjectivity</th>\n",
       "    </tr>\n",
       "  </thead>\n",
       "  <tbody>\n",
       "    <tr>\n",
       "      <th>0</th>\n",
       "      <td>10 Best Foods for You</td>\n",
       "      <td>I like eat delicious food. That's I'm cooking ...</td>\n",
       "      <td>Positive</td>\n",
       "      <td>1.00</td>\n",
       "      <td>0.533333</td>\n",
       "    </tr>\n",
       "    <tr>\n",
       "      <th>1</th>\n",
       "      <td>10 Best Foods for You</td>\n",
       "      <td>This help eating healthy exercise regular basis</td>\n",
       "      <td>Positive</td>\n",
       "      <td>0.25</td>\n",
       "      <td>0.288462</td>\n",
       "    </tr>\n",
       "    <tr>\n",
       "      <th>2</th>\n",
       "      <td>10 Best Foods for You</td>\n",
       "      <td>NaN</td>\n",
       "      <td>NaN</td>\n",
       "      <td>NaN</td>\n",
       "      <td>NaN</td>\n",
       "    </tr>\n",
       "    <tr>\n",
       "      <th>3</th>\n",
       "      <td>10 Best Foods for You</td>\n",
       "      <td>Works great especially going grocery store</td>\n",
       "      <td>Positive</td>\n",
       "      <td>0.40</td>\n",
       "      <td>0.875000</td>\n",
       "    </tr>\n",
       "    <tr>\n",
       "      <th>4</th>\n",
       "      <td>10 Best Foods for You</td>\n",
       "      <td>Best idea us</td>\n",
       "      <td>Positive</td>\n",
       "      <td>1.00</td>\n",
       "      <td>0.300000</td>\n",
       "    </tr>\n",
       "  </tbody>\n",
       "</table>\n",
       "</div>"
      ],
      "text/plain": [
       "                     App                                  Translated_Review  \\\n",
       "0  10 Best Foods for You  I like eat delicious food. That's I'm cooking ...   \n",
       "1  10 Best Foods for You    This help eating healthy exercise regular basis   \n",
       "2  10 Best Foods for You                                                NaN   \n",
       "3  10 Best Foods for You         Works great especially going grocery store   \n",
       "4  10 Best Foods for You                                       Best idea us   \n",
       "\n",
       "  Sentiment  Sentiment_Polarity  Sentiment_Subjectivity  \n",
       "0  Positive                1.00                0.533333  \n",
       "1  Positive                0.25                0.288462  \n",
       "2       NaN                 NaN                     NaN  \n",
       "3  Positive                0.40                0.875000  \n",
       "4  Positive                1.00                0.300000  "
      ]
     },
     "execution_count": 6,
     "metadata": {},
     "output_type": "execute_result"
    }
   ],
   "source": [
    "reviews_df.head()"
   ]
  },
  {
   "cell_type": "code",
   "execution_count": 7,
   "id": "9aa8a599",
   "metadata": {},
   "outputs": [],
   "source": [
    "#pd.read_csv() : csv files\n",
    "#pd.read_excel() : excel files\n",
    "#pd.read_sql() : SQL Databases\n",
    "#pd.read_json() : JSON Files"
   ]
  },
  {
   "cell_type": "code",
   "execution_count": 8,
   "id": "d6a6df4c",
   "metadata": {},
   "outputs": [],
   "source": [
    "#df.isnull() : Missing values\n",
    "#df.dropna() : Removes rows and columns that contain the missing values\n",
    "#df.fillna() : Fills missing values"
   ]
  },
  {
   "cell_type": "code",
   "execution_count": 9,
   "id": "2d3074df",
   "metadata": {},
   "outputs": [],
   "source": [
    "#df.duplicated() : Identifies duplicates\n",
    "#df.drop_duplicates() : Removes duplicate rows"
   ]
  },
  {
   "cell_type": "code",
   "execution_count": 10,
   "id": "1a53bfa8",
   "metadata": {},
   "outputs": [
    {
     "name": "stderr",
     "output_type": "stream",
     "text": [
      "C:\\Users\\dhruv\\AppData\\Local\\Temp\\ipykernel_22252\\2487222361.py:4: FutureWarning: A value is trying to be set on a copy of a DataFrame or Series through chained assignment using an inplace method.\n",
      "The behavior will change in pandas 3.0. This inplace method will never work because the intermediate object on which we are setting values always behaves as a copy.\n",
      "\n",
      "For example, when doing 'df[col].method(value, inplace=True)', try using 'df.method({col: value}, inplace=True)' or df[col] = df[col].method(value) instead, to perform the operation inplace on the original object.\n",
      "\n",
      "\n",
      "  apps_df[column].fillna(apps_df[column].mode()[0],inplace=True)\n"
     ]
    }
   ],
   "source": [
    "#Step 2 : Data Cleaning\n",
    "apps_df = apps_df.dropna(subset=['Rating'])\n",
    "for column in apps_df.columns :\n",
    "    apps_df[column].fillna(apps_df[column].mode()[0],inplace=True)\n",
    "apps_df.drop_duplicates(inplace=True)\n",
    "apps_df=apps_df=apps_df[apps_df['Rating']<=5]\n",
    "reviews_df.dropna(subset=['Translated_Review'],inplace=True)"
   ]
  },
  {
   "cell_type": "code",
   "execution_count": 12,
   "id": "69031828",
   "metadata": {},
   "outputs": [
    {
     "data": {
      "text/plain": [
       "App                object\n",
       "Category           object\n",
       "Rating            float64\n",
       "Reviews            object\n",
       "Size               object\n",
       "Installs           object\n",
       "Type               object\n",
       "Price              object\n",
       "Content Rating     object\n",
       "Genres             object\n",
       "Last Updated       object\n",
       "Current Ver        object\n",
       "Android Ver        object\n",
       "dtype: object"
      ]
     },
     "execution_count": 12,
     "metadata": {},
     "output_type": "execute_result"
    }
   ],
   "source": [
    "apps_df.dtypes"
   ]
  },
  {
   "cell_type": "code",
   "execution_count": 13,
   "id": "726c071a",
   "metadata": {},
   "outputs": [],
   "source": [
    "apps_df['Installs']=apps_df['Installs'].str.replace(',','').str.replace('+','').astype(int)\n",
    "apps_df['Price']=apps_df['Price'].str.replace('$','').astype(float)"
   ]
  },
  {
   "cell_type": "code",
   "execution_count": 14,
   "id": "4a567e79",
   "metadata": {},
   "outputs": [
    {
     "data": {
      "text/plain": [
       "App                object\n",
       "Category           object\n",
       "Rating            float64\n",
       "Reviews            object\n",
       "Size               object\n",
       "Installs            int64\n",
       "Type               object\n",
       "Price             float64\n",
       "Content Rating     object\n",
       "Genres             object\n",
       "Last Updated       object\n",
       "Current Ver        object\n",
       "Android Ver        object\n",
       "dtype: object"
      ]
     },
     "execution_count": 14,
     "metadata": {},
     "output_type": "execute_result"
    }
   ],
   "source": [
    "apps_df.dtypes"
   ]
  },
  {
   "cell_type": "code",
   "execution_count": 15,
   "id": "64440ad0",
   "metadata": {},
   "outputs": [],
   "source": [
    "merged_df=pd.merge(apps_df,reviews_df,on='App',how='inner')"
   ]
  },
  {
   "cell_type": "code",
   "execution_count": 16,
   "id": "80440495",
   "metadata": {},
   "outputs": [
    {
     "data": {
      "text/html": [
       "<div>\n",
       "<style scoped>\n",
       "    .dataframe tbody tr th:only-of-type {\n",
       "        vertical-align: middle;\n",
       "    }\n",
       "\n",
       "    .dataframe tbody tr th {\n",
       "        vertical-align: top;\n",
       "    }\n",
       "\n",
       "    .dataframe thead th {\n",
       "        text-align: right;\n",
       "    }\n",
       "</style>\n",
       "<table border=\"1\" class=\"dataframe\">\n",
       "  <thead>\n",
       "    <tr style=\"text-align: right;\">\n",
       "      <th></th>\n",
       "      <th>App</th>\n",
       "      <th>Category</th>\n",
       "      <th>Rating</th>\n",
       "      <th>Reviews</th>\n",
       "      <th>Size</th>\n",
       "      <th>Installs</th>\n",
       "      <th>Type</th>\n",
       "      <th>Price</th>\n",
       "      <th>Content Rating</th>\n",
       "      <th>Genres</th>\n",
       "      <th>Last Updated</th>\n",
       "      <th>Current Ver</th>\n",
       "      <th>Android Ver</th>\n",
       "      <th>Translated_Review</th>\n",
       "      <th>Sentiment</th>\n",
       "      <th>Sentiment_Polarity</th>\n",
       "      <th>Sentiment_Subjectivity</th>\n",
       "    </tr>\n",
       "  </thead>\n",
       "  <tbody>\n",
       "    <tr>\n",
       "      <th>0</th>\n",
       "      <td>Coloring book moana</td>\n",
       "      <td>ART_AND_DESIGN</td>\n",
       "      <td>3.9</td>\n",
       "      <td>967</td>\n",
       "      <td>14M</td>\n",
       "      <td>500000</td>\n",
       "      <td>Free</td>\n",
       "      <td>0.0</td>\n",
       "      <td>Everyone</td>\n",
       "      <td>Art &amp; Design;Pretend Play</td>\n",
       "      <td>January 15, 2018</td>\n",
       "      <td>2.0.0</td>\n",
       "      <td>4.0.3 and up</td>\n",
       "      <td>A kid's excessive ads. The types ads allowed a...</td>\n",
       "      <td>Negative</td>\n",
       "      <td>-0.250</td>\n",
       "      <td>1.000000</td>\n",
       "    </tr>\n",
       "    <tr>\n",
       "      <th>1</th>\n",
       "      <td>Coloring book moana</td>\n",
       "      <td>ART_AND_DESIGN</td>\n",
       "      <td>3.9</td>\n",
       "      <td>967</td>\n",
       "      <td>14M</td>\n",
       "      <td>500000</td>\n",
       "      <td>Free</td>\n",
       "      <td>0.0</td>\n",
       "      <td>Everyone</td>\n",
       "      <td>Art &amp; Design;Pretend Play</td>\n",
       "      <td>January 15, 2018</td>\n",
       "      <td>2.0.0</td>\n",
       "      <td>4.0.3 and up</td>\n",
       "      <td>It bad &gt;:(</td>\n",
       "      <td>Negative</td>\n",
       "      <td>-0.725</td>\n",
       "      <td>0.833333</td>\n",
       "    </tr>\n",
       "    <tr>\n",
       "      <th>2</th>\n",
       "      <td>Coloring book moana</td>\n",
       "      <td>ART_AND_DESIGN</td>\n",
       "      <td>3.9</td>\n",
       "      <td>967</td>\n",
       "      <td>14M</td>\n",
       "      <td>500000</td>\n",
       "      <td>Free</td>\n",
       "      <td>0.0</td>\n",
       "      <td>Everyone</td>\n",
       "      <td>Art &amp; Design;Pretend Play</td>\n",
       "      <td>January 15, 2018</td>\n",
       "      <td>2.0.0</td>\n",
       "      <td>4.0.3 and up</td>\n",
       "      <td>like</td>\n",
       "      <td>Neutral</td>\n",
       "      <td>0.000</td>\n",
       "      <td>0.000000</td>\n",
       "    </tr>\n",
       "    <tr>\n",
       "      <th>3</th>\n",
       "      <td>Coloring book moana</td>\n",
       "      <td>ART_AND_DESIGN</td>\n",
       "      <td>3.9</td>\n",
       "      <td>967</td>\n",
       "      <td>14M</td>\n",
       "      <td>500000</td>\n",
       "      <td>Free</td>\n",
       "      <td>0.0</td>\n",
       "      <td>Everyone</td>\n",
       "      <td>Art &amp; Design;Pretend Play</td>\n",
       "      <td>January 15, 2018</td>\n",
       "      <td>2.0.0</td>\n",
       "      <td>4.0.3 and up</td>\n",
       "      <td>I love colors inspyering</td>\n",
       "      <td>Positive</td>\n",
       "      <td>0.500</td>\n",
       "      <td>0.600000</td>\n",
       "    </tr>\n",
       "    <tr>\n",
       "      <th>4</th>\n",
       "      <td>Coloring book moana</td>\n",
       "      <td>ART_AND_DESIGN</td>\n",
       "      <td>3.9</td>\n",
       "      <td>967</td>\n",
       "      <td>14M</td>\n",
       "      <td>500000</td>\n",
       "      <td>Free</td>\n",
       "      <td>0.0</td>\n",
       "      <td>Everyone</td>\n",
       "      <td>Art &amp; Design;Pretend Play</td>\n",
       "      <td>January 15, 2018</td>\n",
       "      <td>2.0.0</td>\n",
       "      <td>4.0.3 and up</td>\n",
       "      <td>I hate</td>\n",
       "      <td>Negative</td>\n",
       "      <td>-0.800</td>\n",
       "      <td>0.900000</td>\n",
       "    </tr>\n",
       "  </tbody>\n",
       "</table>\n",
       "</div>"
      ],
      "text/plain": [
       "                   App        Category  Rating Reviews Size  Installs  Type  \\\n",
       "0  Coloring book moana  ART_AND_DESIGN     3.9     967  14M    500000  Free   \n",
       "1  Coloring book moana  ART_AND_DESIGN     3.9     967  14M    500000  Free   \n",
       "2  Coloring book moana  ART_AND_DESIGN     3.9     967  14M    500000  Free   \n",
       "3  Coloring book moana  ART_AND_DESIGN     3.9     967  14M    500000  Free   \n",
       "4  Coloring book moana  ART_AND_DESIGN     3.9     967  14M    500000  Free   \n",
       "\n",
       "   Price Content Rating                     Genres      Last Updated  \\\n",
       "0    0.0       Everyone  Art & Design;Pretend Play  January 15, 2018   \n",
       "1    0.0       Everyone  Art & Design;Pretend Play  January 15, 2018   \n",
       "2    0.0       Everyone  Art & Design;Pretend Play  January 15, 2018   \n",
       "3    0.0       Everyone  Art & Design;Pretend Play  January 15, 2018   \n",
       "4    0.0       Everyone  Art & Design;Pretend Play  January 15, 2018   \n",
       "\n",
       "  Current Ver   Android Ver  \\\n",
       "0       2.0.0  4.0.3 and up   \n",
       "1       2.0.0  4.0.3 and up   \n",
       "2       2.0.0  4.0.3 and up   \n",
       "3       2.0.0  4.0.3 and up   \n",
       "4       2.0.0  4.0.3 and up   \n",
       "\n",
       "                                   Translated_Review Sentiment  \\\n",
       "0  A kid's excessive ads. The types ads allowed a...  Negative   \n",
       "1                                         It bad >:(  Negative   \n",
       "2                                               like   Neutral   \n",
       "3                           I love colors inspyering  Positive   \n",
       "4                                             I hate  Negative   \n",
       "\n",
       "   Sentiment_Polarity  Sentiment_Subjectivity  \n",
       "0              -0.250                1.000000  \n",
       "1              -0.725                0.833333  \n",
       "2               0.000                0.000000  \n",
       "3               0.500                0.600000  \n",
       "4              -0.800                0.900000  "
      ]
     },
     "execution_count": 16,
     "metadata": {},
     "output_type": "execute_result"
    }
   ],
   "source": [
    "merged_df.head()"
   ]
  },
  {
   "cell_type": "code",
   "execution_count": 17,
   "id": "49913dec",
   "metadata": {},
   "outputs": [],
   "source": [
    "def convert_size(size):\n",
    "    if 'M' in size:\n",
    "        return float(size.replace('M',''))\n",
    "    elif 'k' in size:\n",
    "        return float(size.replace('k',''))/1024\n",
    "    else:\n",
    "        return np.nan\n",
    "apps_df['Size']=apps_df['Size'].apply(convert_size)"
   ]
  },
  {
   "cell_type": "code",
   "execution_count": 18,
   "id": "a393ea62",
   "metadata": {},
   "outputs": [
    {
     "data": {
      "text/html": [
       "<div>\n",
       "<style scoped>\n",
       "    .dataframe tbody tr th:only-of-type {\n",
       "        vertical-align: middle;\n",
       "    }\n",
       "\n",
       "    .dataframe tbody tr th {\n",
       "        vertical-align: top;\n",
       "    }\n",
       "\n",
       "    .dataframe thead th {\n",
       "        text-align: right;\n",
       "    }\n",
       "</style>\n",
       "<table border=\"1\" class=\"dataframe\">\n",
       "  <thead>\n",
       "    <tr style=\"text-align: right;\">\n",
       "      <th></th>\n",
       "      <th>App</th>\n",
       "      <th>Category</th>\n",
       "      <th>Rating</th>\n",
       "      <th>Reviews</th>\n",
       "      <th>Size</th>\n",
       "      <th>Installs</th>\n",
       "      <th>Type</th>\n",
       "      <th>Price</th>\n",
       "      <th>Content Rating</th>\n",
       "      <th>Genres</th>\n",
       "      <th>Last Updated</th>\n",
       "      <th>Current Ver</th>\n",
       "      <th>Android Ver</th>\n",
       "    </tr>\n",
       "  </thead>\n",
       "  <tbody>\n",
       "    <tr>\n",
       "      <th>0</th>\n",
       "      <td>Photo Editor &amp; Candy Camera &amp; Grid &amp; ScrapBook</td>\n",
       "      <td>ART_AND_DESIGN</td>\n",
       "      <td>4.1</td>\n",
       "      <td>159</td>\n",
       "      <td>19.0</td>\n",
       "      <td>10000</td>\n",
       "      <td>Free</td>\n",
       "      <td>0.0</td>\n",
       "      <td>Everyone</td>\n",
       "      <td>Art &amp; Design</td>\n",
       "      <td>January 7, 2018</td>\n",
       "      <td>1.0.0</td>\n",
       "      <td>4.0.3 and up</td>\n",
       "    </tr>\n",
       "    <tr>\n",
       "      <th>1</th>\n",
       "      <td>Coloring book moana</td>\n",
       "      <td>ART_AND_DESIGN</td>\n",
       "      <td>3.9</td>\n",
       "      <td>967</td>\n",
       "      <td>14.0</td>\n",
       "      <td>500000</td>\n",
       "      <td>Free</td>\n",
       "      <td>0.0</td>\n",
       "      <td>Everyone</td>\n",
       "      <td>Art &amp; Design;Pretend Play</td>\n",
       "      <td>January 15, 2018</td>\n",
       "      <td>2.0.0</td>\n",
       "      <td>4.0.3 and up</td>\n",
       "    </tr>\n",
       "    <tr>\n",
       "      <th>2</th>\n",
       "      <td>U Launcher Lite – FREE Live Cool Themes, Hide ...</td>\n",
       "      <td>ART_AND_DESIGN</td>\n",
       "      <td>4.7</td>\n",
       "      <td>87510</td>\n",
       "      <td>8.7</td>\n",
       "      <td>5000000</td>\n",
       "      <td>Free</td>\n",
       "      <td>0.0</td>\n",
       "      <td>Everyone</td>\n",
       "      <td>Art &amp; Design</td>\n",
       "      <td>August 1, 2018</td>\n",
       "      <td>1.2.4</td>\n",
       "      <td>4.0.3 and up</td>\n",
       "    </tr>\n",
       "    <tr>\n",
       "      <th>3</th>\n",
       "      <td>Sketch - Draw &amp; Paint</td>\n",
       "      <td>ART_AND_DESIGN</td>\n",
       "      <td>4.5</td>\n",
       "      <td>215644</td>\n",
       "      <td>25.0</td>\n",
       "      <td>50000000</td>\n",
       "      <td>Free</td>\n",
       "      <td>0.0</td>\n",
       "      <td>Teen</td>\n",
       "      <td>Art &amp; Design</td>\n",
       "      <td>June 8, 2018</td>\n",
       "      <td>Varies with device</td>\n",
       "      <td>4.2 and up</td>\n",
       "    </tr>\n",
       "    <tr>\n",
       "      <th>4</th>\n",
       "      <td>Pixel Draw - Number Art Coloring Book</td>\n",
       "      <td>ART_AND_DESIGN</td>\n",
       "      <td>4.3</td>\n",
       "      <td>967</td>\n",
       "      <td>2.8</td>\n",
       "      <td>100000</td>\n",
       "      <td>Free</td>\n",
       "      <td>0.0</td>\n",
       "      <td>Everyone</td>\n",
       "      <td>Art &amp; Design;Creativity</td>\n",
       "      <td>June 20, 2018</td>\n",
       "      <td>1.1</td>\n",
       "      <td>4.4 and up</td>\n",
       "    </tr>\n",
       "    <tr>\n",
       "      <th>...</th>\n",
       "      <td>...</td>\n",
       "      <td>...</td>\n",
       "      <td>...</td>\n",
       "      <td>...</td>\n",
       "      <td>...</td>\n",
       "      <td>...</td>\n",
       "      <td>...</td>\n",
       "      <td>...</td>\n",
       "      <td>...</td>\n",
       "      <td>...</td>\n",
       "      <td>...</td>\n",
       "      <td>...</td>\n",
       "      <td>...</td>\n",
       "    </tr>\n",
       "    <tr>\n",
       "      <th>10834</th>\n",
       "      <td>FR Calculator</td>\n",
       "      <td>FAMILY</td>\n",
       "      <td>4.0</td>\n",
       "      <td>7</td>\n",
       "      <td>2.6</td>\n",
       "      <td>500</td>\n",
       "      <td>Free</td>\n",
       "      <td>0.0</td>\n",
       "      <td>Everyone</td>\n",
       "      <td>Education</td>\n",
       "      <td>June 18, 2017</td>\n",
       "      <td>1.0.0</td>\n",
       "      <td>4.1 and up</td>\n",
       "    </tr>\n",
       "    <tr>\n",
       "      <th>10836</th>\n",
       "      <td>Sya9a Maroc - FR</td>\n",
       "      <td>FAMILY</td>\n",
       "      <td>4.5</td>\n",
       "      <td>38</td>\n",
       "      <td>53.0</td>\n",
       "      <td>5000</td>\n",
       "      <td>Free</td>\n",
       "      <td>0.0</td>\n",
       "      <td>Everyone</td>\n",
       "      <td>Education</td>\n",
       "      <td>July 25, 2017</td>\n",
       "      <td>1.48</td>\n",
       "      <td>4.1 and up</td>\n",
       "    </tr>\n",
       "    <tr>\n",
       "      <th>10837</th>\n",
       "      <td>Fr. Mike Schmitz Audio Teachings</td>\n",
       "      <td>FAMILY</td>\n",
       "      <td>5.0</td>\n",
       "      <td>4</td>\n",
       "      <td>3.6</td>\n",
       "      <td>100</td>\n",
       "      <td>Free</td>\n",
       "      <td>0.0</td>\n",
       "      <td>Everyone</td>\n",
       "      <td>Education</td>\n",
       "      <td>July 6, 2018</td>\n",
       "      <td>1.0</td>\n",
       "      <td>4.1 and up</td>\n",
       "    </tr>\n",
       "    <tr>\n",
       "      <th>10839</th>\n",
       "      <td>The SCP Foundation DB fr nn5n</td>\n",
       "      <td>BOOKS_AND_REFERENCE</td>\n",
       "      <td>4.5</td>\n",
       "      <td>114</td>\n",
       "      <td>NaN</td>\n",
       "      <td>1000</td>\n",
       "      <td>Free</td>\n",
       "      <td>0.0</td>\n",
       "      <td>Mature 17+</td>\n",
       "      <td>Books &amp; Reference</td>\n",
       "      <td>January 19, 2015</td>\n",
       "      <td>Varies with device</td>\n",
       "      <td>Varies with device</td>\n",
       "    </tr>\n",
       "    <tr>\n",
       "      <th>10840</th>\n",
       "      <td>iHoroscope - 2018 Daily Horoscope &amp; Astrology</td>\n",
       "      <td>LIFESTYLE</td>\n",
       "      <td>4.5</td>\n",
       "      <td>398307</td>\n",
       "      <td>19.0</td>\n",
       "      <td>10000000</td>\n",
       "      <td>Free</td>\n",
       "      <td>0.0</td>\n",
       "      <td>Everyone</td>\n",
       "      <td>Lifestyle</td>\n",
       "      <td>July 25, 2018</td>\n",
       "      <td>Varies with device</td>\n",
       "      <td>Varies with device</td>\n",
       "    </tr>\n",
       "  </tbody>\n",
       "</table>\n",
       "<p>8892 rows × 13 columns</p>\n",
       "</div>"
      ],
      "text/plain": [
       "                                                     App             Category  \\\n",
       "0         Photo Editor & Candy Camera & Grid & ScrapBook       ART_AND_DESIGN   \n",
       "1                                    Coloring book moana       ART_AND_DESIGN   \n",
       "2      U Launcher Lite – FREE Live Cool Themes, Hide ...       ART_AND_DESIGN   \n",
       "3                                  Sketch - Draw & Paint       ART_AND_DESIGN   \n",
       "4                  Pixel Draw - Number Art Coloring Book       ART_AND_DESIGN   \n",
       "...                                                  ...                  ...   \n",
       "10834                                      FR Calculator               FAMILY   \n",
       "10836                                   Sya9a Maroc - FR               FAMILY   \n",
       "10837                   Fr. Mike Schmitz Audio Teachings               FAMILY   \n",
       "10839                      The SCP Foundation DB fr nn5n  BOOKS_AND_REFERENCE   \n",
       "10840      iHoroscope - 2018 Daily Horoscope & Astrology            LIFESTYLE   \n",
       "\n",
       "       Rating Reviews  Size  Installs  Type  Price Content Rating  \\\n",
       "0         4.1     159  19.0     10000  Free    0.0       Everyone   \n",
       "1         3.9     967  14.0    500000  Free    0.0       Everyone   \n",
       "2         4.7   87510   8.7   5000000  Free    0.0       Everyone   \n",
       "3         4.5  215644  25.0  50000000  Free    0.0           Teen   \n",
       "4         4.3     967   2.8    100000  Free    0.0       Everyone   \n",
       "...       ...     ...   ...       ...   ...    ...            ...   \n",
       "10834     4.0       7   2.6       500  Free    0.0       Everyone   \n",
       "10836     4.5      38  53.0      5000  Free    0.0       Everyone   \n",
       "10837     5.0       4   3.6       100  Free    0.0       Everyone   \n",
       "10839     4.5     114   NaN      1000  Free    0.0     Mature 17+   \n",
       "10840     4.5  398307  19.0  10000000  Free    0.0       Everyone   \n",
       "\n",
       "                          Genres      Last Updated         Current Ver  \\\n",
       "0                   Art & Design   January 7, 2018               1.0.0   \n",
       "1      Art & Design;Pretend Play  January 15, 2018               2.0.0   \n",
       "2                   Art & Design    August 1, 2018               1.2.4   \n",
       "3                   Art & Design      June 8, 2018  Varies with device   \n",
       "4        Art & Design;Creativity     June 20, 2018                 1.1   \n",
       "...                          ...               ...                 ...   \n",
       "10834                  Education     June 18, 2017               1.0.0   \n",
       "10836                  Education     July 25, 2017                1.48   \n",
       "10837                  Education      July 6, 2018                 1.0   \n",
       "10839          Books & Reference  January 19, 2015  Varies with device   \n",
       "10840                  Lifestyle     July 25, 2018  Varies with device   \n",
       "\n",
       "              Android Ver  \n",
       "0            4.0.3 and up  \n",
       "1            4.0.3 and up  \n",
       "2            4.0.3 and up  \n",
       "3              4.2 and up  \n",
       "4              4.4 and up  \n",
       "...                   ...  \n",
       "10834          4.1 and up  \n",
       "10836          4.1 and up  \n",
       "10837          4.1 and up  \n",
       "10839  Varies with device  \n",
       "10840  Varies with device  \n",
       "\n",
       "[8892 rows x 13 columns]"
      ]
     },
     "execution_count": 18,
     "metadata": {},
     "output_type": "execute_result"
    }
   ],
   "source": [
    "apps_df"
   ]
  },
  {
   "cell_type": "code",
   "execution_count": 19,
   "id": "276e81c3",
   "metadata": {},
   "outputs": [],
   "source": [
    "apps_df['Log_Installs']=np.log(apps_df['Installs'])"
   ]
  },
  {
   "cell_type": "code",
   "execution_count": 20,
   "id": "d4eb8e5b",
   "metadata": {},
   "outputs": [],
   "source": [
    "apps_df['Reviews']=apps_df['Reviews'].astype(int)"
   ]
  },
  {
   "cell_type": "code",
   "execution_count": 21,
   "id": "5fca6428",
   "metadata": {},
   "outputs": [],
   "source": [
    "apps_df['Log_Reviews']=np.log(apps_df['Reviews'])"
   ]
  },
  {
   "cell_type": "code",
   "execution_count": 22,
   "id": "bf0ae06e",
   "metadata": {},
   "outputs": [
    {
     "data": {
      "text/plain": [
       "App                object\n",
       "Category           object\n",
       "Rating            float64\n",
       "Reviews             int64\n",
       "Size              float64\n",
       "Installs            int64\n",
       "Type               object\n",
       "Price             float64\n",
       "Content Rating     object\n",
       "Genres             object\n",
       "Last Updated       object\n",
       "Current Ver        object\n",
       "Android Ver        object\n",
       "Log_Installs      float64\n",
       "Log_Reviews       float64\n",
       "dtype: object"
      ]
     },
     "execution_count": 22,
     "metadata": {},
     "output_type": "execute_result"
    }
   ],
   "source": [
    "apps_df.dtypes"
   ]
  },
  {
   "cell_type": "code",
   "execution_count": 24,
   "id": "f93cc397",
   "metadata": {},
   "outputs": [],
   "source": [
    "def rating_group(rating):\n",
    "    if rating >= 4:\n",
    "        return 'Top rated app'\n",
    "    elif rating >=3:\n",
    "        return 'Above average'\n",
    "    elif rating >=2:\n",
    "        return 'Average'\n",
    "    else:\n",
    "        return 'Below Average'\n",
    "apps_df['Rating_Group']=apps_df['Rating'].apply(rating_group)"
   ]
  },
  {
   "cell_type": "code",
   "execution_count": 25,
   "id": "4f83276f",
   "metadata": {},
   "outputs": [],
   "source": [
    "apps_df['Revenue']=apps_df['Price']*apps_df['Installs']"
   ]
  },
  {
   "cell_type": "code",
   "execution_count": 26,
   "id": "ea0bbf7c",
   "metadata": {},
   "outputs": [],
   "source": [
    "sia = SentimentIntensityAnalyzer()"
   ]
  },
  {
   "cell_type": "code",
   "execution_count": 27,
   "id": "b12180e4",
   "metadata": {},
   "outputs": [],
   "source": [
    "#Polarity Scores in SIA\n",
    "#Positive, Negative, Neutral and Compound: -1 - Very negative ; +1 - Very positive"
   ]
  },
  {
   "cell_type": "code",
   "execution_count": 28,
   "id": "9478a59a",
   "metadata": {},
   "outputs": [
    {
     "name": "stdout",
     "output_type": "stream",
     "text": [
      "{'neg': 0.0, 'neu': 0.42, 'pos': 0.58, 'compound': 0.8516}\n"
     ]
    }
   ],
   "source": [
    "review = \"This app is amazing! I love the new features.\"\n",
    "sentiment_score= sia.polarity_scores(review)\n",
    "print(sentiment_score)"
   ]
  },
  {
   "cell_type": "code",
   "execution_count": 29,
   "id": "6189ccc6",
   "metadata": {},
   "outputs": [
    {
     "name": "stdout",
     "output_type": "stream",
     "text": [
      "{'neg': 0.535, 'neu': 0.465, 'pos': 0.0, 'compound': -0.8427}\n"
     ]
    }
   ],
   "source": [
    "review = \"This app is very bad! I hate the new features.\"\n",
    "sentiment_score= sia.polarity_scores(review)\n",
    "print(sentiment_score)"
   ]
  },
  {
   "cell_type": "code",
   "execution_count": 30,
   "id": "1f24b19c",
   "metadata": {},
   "outputs": [
    {
     "name": "stdout",
     "output_type": "stream",
     "text": [
      "{'neg': 0.0, 'neu': 0.612, 'pos': 0.388, 'compound': 0.2263}\n"
     ]
    }
   ],
   "source": [
    "review = \"This app is okay.\"\n",
    "sentiment_score= sia.polarity_scores(review)\n",
    "print(sentiment_score)"
   ]
  },
  {
   "cell_type": "code",
   "execution_count": 31,
   "id": "609b041f",
   "metadata": {},
   "outputs": [],
   "source": [
    "reviews_df['Sentiment_Score']=reviews_df['Translated_Review'].apply(lambda x: sia.polarity_scores(str(x))['compound'])"
   ]
  },
  {
   "cell_type": "code",
   "execution_count": 32,
   "id": "46da6b5b",
   "metadata": {},
   "outputs": [
    {
     "data": {
      "text/html": [
       "<div>\n",
       "<style scoped>\n",
       "    .dataframe tbody tr th:only-of-type {\n",
       "        vertical-align: middle;\n",
       "    }\n",
       "\n",
       "    .dataframe tbody tr th {\n",
       "        vertical-align: top;\n",
       "    }\n",
       "\n",
       "    .dataframe thead th {\n",
       "        text-align: right;\n",
       "    }\n",
       "</style>\n",
       "<table border=\"1\" class=\"dataframe\">\n",
       "  <thead>\n",
       "    <tr style=\"text-align: right;\">\n",
       "      <th></th>\n",
       "      <th>App</th>\n",
       "      <th>Translated_Review</th>\n",
       "      <th>Sentiment</th>\n",
       "      <th>Sentiment_Polarity</th>\n",
       "      <th>Sentiment_Subjectivity</th>\n",
       "      <th>Sentiment_Score</th>\n",
       "    </tr>\n",
       "  </thead>\n",
       "  <tbody>\n",
       "    <tr>\n",
       "      <th>0</th>\n",
       "      <td>10 Best Foods for You</td>\n",
       "      <td>I like eat delicious food. That's I'm cooking ...</td>\n",
       "      <td>Positive</td>\n",
       "      <td>1.00</td>\n",
       "      <td>0.533333</td>\n",
       "      <td>0.9531</td>\n",
       "    </tr>\n",
       "    <tr>\n",
       "      <th>1</th>\n",
       "      <td>10 Best Foods for You</td>\n",
       "      <td>This help eating healthy exercise regular basis</td>\n",
       "      <td>Positive</td>\n",
       "      <td>0.25</td>\n",
       "      <td>0.288462</td>\n",
       "      <td>0.6597</td>\n",
       "    </tr>\n",
       "    <tr>\n",
       "      <th>3</th>\n",
       "      <td>10 Best Foods for You</td>\n",
       "      <td>Works great especially going grocery store</td>\n",
       "      <td>Positive</td>\n",
       "      <td>0.40</td>\n",
       "      <td>0.875000</td>\n",
       "      <td>0.6249</td>\n",
       "    </tr>\n",
       "    <tr>\n",
       "      <th>4</th>\n",
       "      <td>10 Best Foods for You</td>\n",
       "      <td>Best idea us</td>\n",
       "      <td>Positive</td>\n",
       "      <td>1.00</td>\n",
       "      <td>0.300000</td>\n",
       "      <td>0.6369</td>\n",
       "    </tr>\n",
       "    <tr>\n",
       "      <th>5</th>\n",
       "      <td>10 Best Foods for You</td>\n",
       "      <td>Best way</td>\n",
       "      <td>Positive</td>\n",
       "      <td>1.00</td>\n",
       "      <td>0.300000</td>\n",
       "      <td>0.6369</td>\n",
       "    </tr>\n",
       "  </tbody>\n",
       "</table>\n",
       "</div>"
      ],
      "text/plain": [
       "                     App                                  Translated_Review  \\\n",
       "0  10 Best Foods for You  I like eat delicious food. That's I'm cooking ...   \n",
       "1  10 Best Foods for You    This help eating healthy exercise regular basis   \n",
       "3  10 Best Foods for You         Works great especially going grocery store   \n",
       "4  10 Best Foods for You                                       Best idea us   \n",
       "5  10 Best Foods for You                                           Best way   \n",
       "\n",
       "  Sentiment  Sentiment_Polarity  Sentiment_Subjectivity  Sentiment_Score  \n",
       "0  Positive                1.00                0.533333           0.9531  \n",
       "1  Positive                0.25                0.288462           0.6597  \n",
       "3  Positive                0.40                0.875000           0.6249  \n",
       "4  Positive                1.00                0.300000           0.6369  \n",
       "5  Positive                1.00                0.300000           0.6369  "
      ]
     },
     "execution_count": 32,
     "metadata": {},
     "output_type": "execute_result"
    }
   ],
   "source": [
    "reviews_df.head()"
   ]
  },
  {
   "cell_type": "code",
   "execution_count": 3,
   "id": "3e3803a7",
   "metadata": {},
   "outputs": [],
   "source": [
    "apps_df['Last Updated']=pd.to_datetime(apps_df['Last Updated'],errors='coerce')"
   ]
  },
  {
   "cell_type": "code",
   "execution_count": 34,
   "id": "ee495b1e",
   "metadata": {},
   "outputs": [],
   "source": [
    "apps_df['Year']=apps_df['Last Updated'].dt.year"
   ]
  },
  {
   "cell_type": "code",
   "execution_count": 35,
   "id": "af929b64",
   "metadata": {},
   "outputs": [
    {
     "data": {
      "text/html": [
       "<div>\n",
       "<style scoped>\n",
       "    .dataframe tbody tr th:only-of-type {\n",
       "        vertical-align: middle;\n",
       "    }\n",
       "\n",
       "    .dataframe tbody tr th {\n",
       "        vertical-align: top;\n",
       "    }\n",
       "\n",
       "    .dataframe thead th {\n",
       "        text-align: right;\n",
       "    }\n",
       "</style>\n",
       "<table border=\"1\" class=\"dataframe\">\n",
       "  <thead>\n",
       "    <tr style=\"text-align: right;\">\n",
       "      <th></th>\n",
       "      <th>App</th>\n",
       "      <th>Category</th>\n",
       "      <th>Rating</th>\n",
       "      <th>Reviews</th>\n",
       "      <th>Size</th>\n",
       "      <th>Installs</th>\n",
       "      <th>Type</th>\n",
       "      <th>Price</th>\n",
       "      <th>Content Rating</th>\n",
       "      <th>Genres</th>\n",
       "      <th>Last Updated</th>\n",
       "      <th>Current Ver</th>\n",
       "      <th>Android Ver</th>\n",
       "      <th>Log_Installs</th>\n",
       "      <th>Log_Reviews</th>\n",
       "      <th>Rating_Group</th>\n",
       "      <th>Revenue</th>\n",
       "      <th>Year</th>\n",
       "    </tr>\n",
       "  </thead>\n",
       "  <tbody>\n",
       "    <tr>\n",
       "      <th>0</th>\n",
       "      <td>Photo Editor &amp; Candy Camera &amp; Grid &amp; ScrapBook</td>\n",
       "      <td>ART_AND_DESIGN</td>\n",
       "      <td>4.1</td>\n",
       "      <td>159</td>\n",
       "      <td>19.0</td>\n",
       "      <td>10000</td>\n",
       "      <td>Free</td>\n",
       "      <td>0.0</td>\n",
       "      <td>Everyone</td>\n",
       "      <td>Art &amp; Design</td>\n",
       "      <td>2018-01-07</td>\n",
       "      <td>1.0.0</td>\n",
       "      <td>4.0.3 and up</td>\n",
       "      <td>9.210340</td>\n",
       "      <td>5.068904</td>\n",
       "      <td>Top rated app</td>\n",
       "      <td>0.0</td>\n",
       "      <td>2018</td>\n",
       "    </tr>\n",
       "    <tr>\n",
       "      <th>1</th>\n",
       "      <td>Coloring book moana</td>\n",
       "      <td>ART_AND_DESIGN</td>\n",
       "      <td>3.9</td>\n",
       "      <td>967</td>\n",
       "      <td>14.0</td>\n",
       "      <td>500000</td>\n",
       "      <td>Free</td>\n",
       "      <td>0.0</td>\n",
       "      <td>Everyone</td>\n",
       "      <td>Art &amp; Design;Pretend Play</td>\n",
       "      <td>2018-01-15</td>\n",
       "      <td>2.0.0</td>\n",
       "      <td>4.0.3 and up</td>\n",
       "      <td>13.122363</td>\n",
       "      <td>6.874198</td>\n",
       "      <td>Above average</td>\n",
       "      <td>0.0</td>\n",
       "      <td>2018</td>\n",
       "    </tr>\n",
       "    <tr>\n",
       "      <th>2</th>\n",
       "      <td>U Launcher Lite – FREE Live Cool Themes, Hide ...</td>\n",
       "      <td>ART_AND_DESIGN</td>\n",
       "      <td>4.7</td>\n",
       "      <td>87510</td>\n",
       "      <td>8.7</td>\n",
       "      <td>5000000</td>\n",
       "      <td>Free</td>\n",
       "      <td>0.0</td>\n",
       "      <td>Everyone</td>\n",
       "      <td>Art &amp; Design</td>\n",
       "      <td>2018-08-01</td>\n",
       "      <td>1.2.4</td>\n",
       "      <td>4.0.3 and up</td>\n",
       "      <td>15.424948</td>\n",
       "      <td>11.379508</td>\n",
       "      <td>Top rated app</td>\n",
       "      <td>0.0</td>\n",
       "      <td>2018</td>\n",
       "    </tr>\n",
       "    <tr>\n",
       "      <th>3</th>\n",
       "      <td>Sketch - Draw &amp; Paint</td>\n",
       "      <td>ART_AND_DESIGN</td>\n",
       "      <td>4.5</td>\n",
       "      <td>215644</td>\n",
       "      <td>25.0</td>\n",
       "      <td>50000000</td>\n",
       "      <td>Free</td>\n",
       "      <td>0.0</td>\n",
       "      <td>Teen</td>\n",
       "      <td>Art &amp; Design</td>\n",
       "      <td>2018-06-08</td>\n",
       "      <td>Varies with device</td>\n",
       "      <td>4.2 and up</td>\n",
       "      <td>17.727534</td>\n",
       "      <td>12.281384</td>\n",
       "      <td>Top rated app</td>\n",
       "      <td>0.0</td>\n",
       "      <td>2018</td>\n",
       "    </tr>\n",
       "    <tr>\n",
       "      <th>4</th>\n",
       "      <td>Pixel Draw - Number Art Coloring Book</td>\n",
       "      <td>ART_AND_DESIGN</td>\n",
       "      <td>4.3</td>\n",
       "      <td>967</td>\n",
       "      <td>2.8</td>\n",
       "      <td>100000</td>\n",
       "      <td>Free</td>\n",
       "      <td>0.0</td>\n",
       "      <td>Everyone</td>\n",
       "      <td>Art &amp; Design;Creativity</td>\n",
       "      <td>2018-06-20</td>\n",
       "      <td>1.1</td>\n",
       "      <td>4.4 and up</td>\n",
       "      <td>11.512925</td>\n",
       "      <td>6.874198</td>\n",
       "      <td>Top rated app</td>\n",
       "      <td>0.0</td>\n",
       "      <td>2018</td>\n",
       "    </tr>\n",
       "  </tbody>\n",
       "</table>\n",
       "</div>"
      ],
      "text/plain": [
       "                                                 App        Category  Rating  \\\n",
       "0     Photo Editor & Candy Camera & Grid & ScrapBook  ART_AND_DESIGN     4.1   \n",
       "1                                Coloring book moana  ART_AND_DESIGN     3.9   \n",
       "2  U Launcher Lite – FREE Live Cool Themes, Hide ...  ART_AND_DESIGN     4.7   \n",
       "3                              Sketch - Draw & Paint  ART_AND_DESIGN     4.5   \n",
       "4              Pixel Draw - Number Art Coloring Book  ART_AND_DESIGN     4.3   \n",
       "\n",
       "   Reviews  Size  Installs  Type  Price Content Rating  \\\n",
       "0      159  19.0     10000  Free    0.0       Everyone   \n",
       "1      967  14.0    500000  Free    0.0       Everyone   \n",
       "2    87510   8.7   5000000  Free    0.0       Everyone   \n",
       "3   215644  25.0  50000000  Free    0.0           Teen   \n",
       "4      967   2.8    100000  Free    0.0       Everyone   \n",
       "\n",
       "                      Genres Last Updated         Current Ver   Android Ver  \\\n",
       "0               Art & Design   2018-01-07               1.0.0  4.0.3 and up   \n",
       "1  Art & Design;Pretend Play   2018-01-15               2.0.0  4.0.3 and up   \n",
       "2               Art & Design   2018-08-01               1.2.4  4.0.3 and up   \n",
       "3               Art & Design   2018-06-08  Varies with device    4.2 and up   \n",
       "4    Art & Design;Creativity   2018-06-20                 1.1    4.4 and up   \n",
       "\n",
       "   Log_Installs  Log_Reviews   Rating_Group  Revenue  Year  \n",
       "0      9.210340     5.068904  Top rated app      0.0  2018  \n",
       "1     13.122363     6.874198  Above average      0.0  2018  \n",
       "2     15.424948    11.379508  Top rated app      0.0  2018  \n",
       "3     17.727534    12.281384  Top rated app      0.0  2018  \n",
       "4     11.512925     6.874198  Top rated app      0.0  2018  "
      ]
     },
     "execution_count": 35,
     "metadata": {},
     "output_type": "execute_result"
    }
   ],
   "source": [
    "apps_df.head()"
   ]
  },
  {
   "cell_type": "code",
   "execution_count": 36,
   "id": "38dc664b",
   "metadata": {},
   "outputs": [
    {
     "data": {
      "application/vnd.plotly.v1+json": {
       "config": {
        "plotlyServerURL": "https://plot.ly"
       },
       "data": [
        {
         "hovertemplate": "x=%{x}<br>y=%{y}<extra></extra>",
         "legendgroup": "",
         "marker": {
          "color": "#636efa",
          "pattern": {
           "shape": ""
          }
         },
         "name": "",
         "orientation": "v",
         "showlegend": false,
         "textposition": "auto",
         "type": "bar",
         "x": [
          "A",
          "B",
          "C"
         ],
         "xaxis": "x",
         "y": {
          "bdata": "AQMC",
          "dtype": "i1"
         },
         "yaxis": "y"
        }
       ],
       "layout": {
        "barmode": "relative",
        "legend": {
         "tracegroupgap": 0
        },
        "template": {
         "data": {
          "bar": [
           {
            "error_x": {
             "color": "#2a3f5f"
            },
            "error_y": {
             "color": "#2a3f5f"
            },
            "marker": {
             "line": {
              "color": "#E5ECF6",
              "width": 0.5
             },
             "pattern": {
              "fillmode": "overlay",
              "size": 10,
              "solidity": 0.2
             }
            },
            "type": "bar"
           }
          ],
          "barpolar": [
           {
            "marker": {
             "line": {
              "color": "#E5ECF6",
              "width": 0.5
             },
             "pattern": {
              "fillmode": "overlay",
              "size": 10,
              "solidity": 0.2
             }
            },
            "type": "barpolar"
           }
          ],
          "carpet": [
           {
            "aaxis": {
             "endlinecolor": "#2a3f5f",
             "gridcolor": "white",
             "linecolor": "white",
             "minorgridcolor": "white",
             "startlinecolor": "#2a3f5f"
            },
            "baxis": {
             "endlinecolor": "#2a3f5f",
             "gridcolor": "white",
             "linecolor": "white",
             "minorgridcolor": "white",
             "startlinecolor": "#2a3f5f"
            },
            "type": "carpet"
           }
          ],
          "choropleth": [
           {
            "colorbar": {
             "outlinewidth": 0,
             "ticks": ""
            },
            "type": "choropleth"
           }
          ],
          "contour": [
           {
            "colorbar": {
             "outlinewidth": 0,
             "ticks": ""
            },
            "colorscale": [
             [
              0,
              "#0d0887"
             ],
             [
              0.1111111111111111,
              "#46039f"
             ],
             [
              0.2222222222222222,
              "#7201a8"
             ],
             [
              0.3333333333333333,
              "#9c179e"
             ],
             [
              0.4444444444444444,
              "#bd3786"
             ],
             [
              0.5555555555555556,
              "#d8576b"
             ],
             [
              0.6666666666666666,
              "#ed7953"
             ],
             [
              0.7777777777777778,
              "#fb9f3a"
             ],
             [
              0.8888888888888888,
              "#fdca26"
             ],
             [
              1,
              "#f0f921"
             ]
            ],
            "type": "contour"
           }
          ],
          "contourcarpet": [
           {
            "colorbar": {
             "outlinewidth": 0,
             "ticks": ""
            },
            "type": "contourcarpet"
           }
          ],
          "heatmap": [
           {
            "colorbar": {
             "outlinewidth": 0,
             "ticks": ""
            },
            "colorscale": [
             [
              0,
              "#0d0887"
             ],
             [
              0.1111111111111111,
              "#46039f"
             ],
             [
              0.2222222222222222,
              "#7201a8"
             ],
             [
              0.3333333333333333,
              "#9c179e"
             ],
             [
              0.4444444444444444,
              "#bd3786"
             ],
             [
              0.5555555555555556,
              "#d8576b"
             ],
             [
              0.6666666666666666,
              "#ed7953"
             ],
             [
              0.7777777777777778,
              "#fb9f3a"
             ],
             [
              0.8888888888888888,
              "#fdca26"
             ],
             [
              1,
              "#f0f921"
             ]
            ],
            "type": "heatmap"
           }
          ],
          "histogram": [
           {
            "marker": {
             "pattern": {
              "fillmode": "overlay",
              "size": 10,
              "solidity": 0.2
             }
            },
            "type": "histogram"
           }
          ],
          "histogram2d": [
           {
            "colorbar": {
             "outlinewidth": 0,
             "ticks": ""
            },
            "colorscale": [
             [
              0,
              "#0d0887"
             ],
             [
              0.1111111111111111,
              "#46039f"
             ],
             [
              0.2222222222222222,
              "#7201a8"
             ],
             [
              0.3333333333333333,
              "#9c179e"
             ],
             [
              0.4444444444444444,
              "#bd3786"
             ],
             [
              0.5555555555555556,
              "#d8576b"
             ],
             [
              0.6666666666666666,
              "#ed7953"
             ],
             [
              0.7777777777777778,
              "#fb9f3a"
             ],
             [
              0.8888888888888888,
              "#fdca26"
             ],
             [
              1,
              "#f0f921"
             ]
            ],
            "type": "histogram2d"
           }
          ],
          "histogram2dcontour": [
           {
            "colorbar": {
             "outlinewidth": 0,
             "ticks": ""
            },
            "colorscale": [
             [
              0,
              "#0d0887"
             ],
             [
              0.1111111111111111,
              "#46039f"
             ],
             [
              0.2222222222222222,
              "#7201a8"
             ],
             [
              0.3333333333333333,
              "#9c179e"
             ],
             [
              0.4444444444444444,
              "#bd3786"
             ],
             [
              0.5555555555555556,
              "#d8576b"
             ],
             [
              0.6666666666666666,
              "#ed7953"
             ],
             [
              0.7777777777777778,
              "#fb9f3a"
             ],
             [
              0.8888888888888888,
              "#fdca26"
             ],
             [
              1,
              "#f0f921"
             ]
            ],
            "type": "histogram2dcontour"
           }
          ],
          "mesh3d": [
           {
            "colorbar": {
             "outlinewidth": 0,
             "ticks": ""
            },
            "type": "mesh3d"
           }
          ],
          "parcoords": [
           {
            "line": {
             "colorbar": {
              "outlinewidth": 0,
              "ticks": ""
             }
            },
            "type": "parcoords"
           }
          ],
          "pie": [
           {
            "automargin": true,
            "type": "pie"
           }
          ],
          "scatter": [
           {
            "fillpattern": {
             "fillmode": "overlay",
             "size": 10,
             "solidity": 0.2
            },
            "type": "scatter"
           }
          ],
          "scatter3d": [
           {
            "line": {
             "colorbar": {
              "outlinewidth": 0,
              "ticks": ""
             }
            },
            "marker": {
             "colorbar": {
              "outlinewidth": 0,
              "ticks": ""
             }
            },
            "type": "scatter3d"
           }
          ],
          "scattercarpet": [
           {
            "marker": {
             "colorbar": {
              "outlinewidth": 0,
              "ticks": ""
             }
            },
            "type": "scattercarpet"
           }
          ],
          "scattergeo": [
           {
            "marker": {
             "colorbar": {
              "outlinewidth": 0,
              "ticks": ""
             }
            },
            "type": "scattergeo"
           }
          ],
          "scattergl": [
           {
            "marker": {
             "colorbar": {
              "outlinewidth": 0,
              "ticks": ""
             }
            },
            "type": "scattergl"
           }
          ],
          "scattermap": [
           {
            "marker": {
             "colorbar": {
              "outlinewidth": 0,
              "ticks": ""
             }
            },
            "type": "scattermap"
           }
          ],
          "scattermapbox": [
           {
            "marker": {
             "colorbar": {
              "outlinewidth": 0,
              "ticks": ""
             }
            },
            "type": "scattermapbox"
           }
          ],
          "scatterpolar": [
           {
            "marker": {
             "colorbar": {
              "outlinewidth": 0,
              "ticks": ""
             }
            },
            "type": "scatterpolar"
           }
          ],
          "scatterpolargl": [
           {
            "marker": {
             "colorbar": {
              "outlinewidth": 0,
              "ticks": ""
             }
            },
            "type": "scatterpolargl"
           }
          ],
          "scatterternary": [
           {
            "marker": {
             "colorbar": {
              "outlinewidth": 0,
              "ticks": ""
             }
            },
            "type": "scatterternary"
           }
          ],
          "surface": [
           {
            "colorbar": {
             "outlinewidth": 0,
             "ticks": ""
            },
            "colorscale": [
             [
              0,
              "#0d0887"
             ],
             [
              0.1111111111111111,
              "#46039f"
             ],
             [
              0.2222222222222222,
              "#7201a8"
             ],
             [
              0.3333333333333333,
              "#9c179e"
             ],
             [
              0.4444444444444444,
              "#bd3786"
             ],
             [
              0.5555555555555556,
              "#d8576b"
             ],
             [
              0.6666666666666666,
              "#ed7953"
             ],
             [
              0.7777777777777778,
              "#fb9f3a"
             ],
             [
              0.8888888888888888,
              "#fdca26"
             ],
             [
              1,
              "#f0f921"
             ]
            ],
            "type": "surface"
           }
          ],
          "table": [
           {
            "cells": {
             "fill": {
              "color": "#EBF0F8"
             },
             "line": {
              "color": "white"
             }
            },
            "header": {
             "fill": {
              "color": "#C8D4E3"
             },
             "line": {
              "color": "white"
             }
            },
            "type": "table"
           }
          ]
         },
         "layout": {
          "annotationdefaults": {
           "arrowcolor": "#2a3f5f",
           "arrowhead": 0,
           "arrowwidth": 1
          },
          "autotypenumbers": "strict",
          "coloraxis": {
           "colorbar": {
            "outlinewidth": 0,
            "ticks": ""
           }
          },
          "colorscale": {
           "diverging": [
            [
             0,
             "#8e0152"
            ],
            [
             0.1,
             "#c51b7d"
            ],
            [
             0.2,
             "#de77ae"
            ],
            [
             0.3,
             "#f1b6da"
            ],
            [
             0.4,
             "#fde0ef"
            ],
            [
             0.5,
             "#f7f7f7"
            ],
            [
             0.6,
             "#e6f5d0"
            ],
            [
             0.7,
             "#b8e186"
            ],
            [
             0.8,
             "#7fbc41"
            ],
            [
             0.9,
             "#4d9221"
            ],
            [
             1,
             "#276419"
            ]
           ],
           "sequential": [
            [
             0,
             "#0d0887"
            ],
            [
             0.1111111111111111,
             "#46039f"
            ],
            [
             0.2222222222222222,
             "#7201a8"
            ],
            [
             0.3333333333333333,
             "#9c179e"
            ],
            [
             0.4444444444444444,
             "#bd3786"
            ],
            [
             0.5555555555555556,
             "#d8576b"
            ],
            [
             0.6666666666666666,
             "#ed7953"
            ],
            [
             0.7777777777777778,
             "#fb9f3a"
            ],
            [
             0.8888888888888888,
             "#fdca26"
            ],
            [
             1,
             "#f0f921"
            ]
           ],
           "sequentialminus": [
            [
             0,
             "#0d0887"
            ],
            [
             0.1111111111111111,
             "#46039f"
            ],
            [
             0.2222222222222222,
             "#7201a8"
            ],
            [
             0.3333333333333333,
             "#9c179e"
            ],
            [
             0.4444444444444444,
             "#bd3786"
            ],
            [
             0.5555555555555556,
             "#d8576b"
            ],
            [
             0.6666666666666666,
             "#ed7953"
            ],
            [
             0.7777777777777778,
             "#fb9f3a"
            ],
            [
             0.8888888888888888,
             "#fdca26"
            ],
            [
             1,
             "#f0f921"
            ]
           ]
          },
          "colorway": [
           "#636efa",
           "#EF553B",
           "#00cc96",
           "#ab63fa",
           "#FFA15A",
           "#19d3f3",
           "#FF6692",
           "#B6E880",
           "#FF97FF",
           "#FECB52"
          ],
          "font": {
           "color": "#2a3f5f"
          },
          "geo": {
           "bgcolor": "white",
           "lakecolor": "white",
           "landcolor": "#E5ECF6",
           "showlakes": true,
           "showland": true,
           "subunitcolor": "white"
          },
          "hoverlabel": {
           "align": "left"
          },
          "hovermode": "closest",
          "mapbox": {
           "style": "light"
          },
          "paper_bgcolor": "white",
          "plot_bgcolor": "#E5ECF6",
          "polar": {
           "angularaxis": {
            "gridcolor": "white",
            "linecolor": "white",
            "ticks": ""
           },
           "bgcolor": "#E5ECF6",
           "radialaxis": {
            "gridcolor": "white",
            "linecolor": "white",
            "ticks": ""
           }
          },
          "scene": {
           "xaxis": {
            "backgroundcolor": "#E5ECF6",
            "gridcolor": "white",
            "gridwidth": 2,
            "linecolor": "white",
            "showbackground": true,
            "ticks": "",
            "zerolinecolor": "white"
           },
           "yaxis": {
            "backgroundcolor": "#E5ECF6",
            "gridcolor": "white",
            "gridwidth": 2,
            "linecolor": "white",
            "showbackground": true,
            "ticks": "",
            "zerolinecolor": "white"
           },
           "zaxis": {
            "backgroundcolor": "#E5ECF6",
            "gridcolor": "white",
            "gridwidth": 2,
            "linecolor": "white",
            "showbackground": true,
            "ticks": "",
            "zerolinecolor": "white"
           }
          },
          "shapedefaults": {
           "line": {
            "color": "#2a3f5f"
           }
          },
          "ternary": {
           "aaxis": {
            "gridcolor": "white",
            "linecolor": "white",
            "ticks": ""
           },
           "baxis": {
            "gridcolor": "white",
            "linecolor": "white",
            "ticks": ""
           },
           "bgcolor": "#E5ECF6",
           "caxis": {
            "gridcolor": "white",
            "linecolor": "white",
            "ticks": ""
           }
          },
          "title": {
           "x": 0.05
          },
          "xaxis": {
           "automargin": true,
           "gridcolor": "white",
           "linecolor": "white",
           "ticks": "",
           "title": {
            "standoff": 15
           },
           "zerolinecolor": "white",
           "zerolinewidth": 2
          },
          "yaxis": {
           "automargin": true,
           "gridcolor": "white",
           "linecolor": "white",
           "ticks": "",
           "title": {
            "standoff": 15
           },
           "zerolinecolor": "white",
           "zerolinewidth": 2
          }
         }
        },
        "title": {
         "text": "Sample Bar Chart"
        },
        "xaxis": {
         "anchor": "y",
         "domain": [
          0,
          1
         ],
         "title": {
          "text": "x"
         }
        },
        "yaxis": {
         "anchor": "x",
         "domain": [
          0,
          1
         ],
         "title": {
          "text": "y"
         }
        }
       }
      }
     },
     "metadata": {},
     "output_type": "display_data"
    }
   ],
   "source": [
    "import plotly.express as px\n",
    "fig=px.bar(x=[\"A\",\"B\",\"C\"],y=[1,3,2],title=\"Sample Bar Chart\")\n",
    "fig.show()"
   ]
  },
  {
   "cell_type": "code",
   "execution_count": 37,
   "id": "498abb43",
   "metadata": {},
   "outputs": [],
   "source": [
    "fig.write_html(\"interactive_plot.html\")"
   ]
  },
  {
   "cell_type": "code",
   "execution_count": 38,
   "id": "07080e52",
   "metadata": {},
   "outputs": [],
   "source": [
    "html_files_path=\"./\"\n",
    "if not os.path.exists(html_files_path):\n",
    "    os.makedirs(html_files_path)"
   ]
  },
  {
   "cell_type": "code",
   "execution_count": 39,
   "id": "c3a68d41",
   "metadata": {},
   "outputs": [],
   "source": [
    "plot_containers=\"\""
   ]
  },
  {
   "cell_type": "code",
   "execution_count": 40,
   "id": "c3685c72",
   "metadata": {},
   "outputs": [],
   "source": [
    "def save_plot_as_html(fig, filename, insight):\n",
    "    global plot_containers\n",
    "    filepath = os.path.join(html_files_path, filename)\n",
    "    html_content = pio.to_html(fig, full_html=False, include_plotlyjs='inline')\n",
    "    # Append the plot and its insight to plot_containers\n",
    "    plot_containers += f\"\"\"\n",
    "    <div class=\"plot-container\" id=\"{filename}\" onclick=\"openPlot('{filename}')\">\n",
    "        <div class=\"plot\">{html_content}</div>\n",
    "        <div class=\"insights\">{insight}</div>\n",
    "    </div>\n",
    "    \"\"\"\n",
    "    fig.write_html(filepath, full_html=False, include_plotlyjs='inline')"
   ]
  },
  {
   "cell_type": "code",
   "execution_count": 41,
   "id": "a3f978ae",
   "metadata": {},
   "outputs": [],
   "source": [
    "plot_width=400\n",
    "plot_height=300\n",
    "plot_bg_color='black'\n",
    "text_color='white'\n",
    "title_font={'size':16}\n",
    "axis_font={'size':12}"
   ]
  },
  {
   "cell_type": "code",
   "execution_count": 42,
   "id": "cd64aa93",
   "metadata": {},
   "outputs": [],
   "source": [
    "#Figure 1\n",
    "category_counts=apps_df['Category'].value_counts().nlargest(10)\n",
    "fig1=px.bar(\n",
    "    x=category_counts.index,\n",
    "    y=category_counts.values,\n",
    "    labels={'x':'Category','y':'Count'},\n",
    "    title='Top Categories on Play Store',\n",
    "    color=category_counts.index,\n",
    "    color_discrete_sequence=px.colors.sequential.Plasma,\n",
    "    width=400,\n",
    "    height=300\n",
    ")\n",
    "fig1.update_layout(\n",
    "    plot_bgcolor='black',\n",
    "    paper_bgcolor='black',\n",
    "    font_color='white',\n",
    "    title_font={'size':16},\n",
    "    xaxis=dict(title_font={'size':12}),\n",
    "    yaxis=dict(title_font={'size':12}),\n",
    "    margin=dict(l=10,r=10,t=30,b=10)\n",
    ")\n",
    "#fig1.update_traces(marker=dict(pattern=dict(line=dict(color='white',width=1))))\n",
    "save_plot_as_html(fig1,\"Category Graph 1.html\",\"The top categories on the Play Store are dominated by tools, entertainment, and productivity apps\")\n",
    "            "
   ]
  },
  {
   "cell_type": "code",
   "execution_count": 43,
   "id": "4b6c8624",
   "metadata": {},
   "outputs": [],
   "source": [
    "#Figure 2\n",
    "type_counts=apps_df['Type'].value_counts()\n",
    "fig2=px.pie(\n",
    "    values=type_counts.values,\n",
    "    names=type_counts.index,\n",
    "    title='App Type Distribution',\n",
    "    color_discrete_sequence=px.colors.sequential.RdBu,\n",
    "    width=400,\n",
    "    height=300\n",
    ")\n",
    "fig2.update_layout(\n",
    "    plot_bgcolor='black',\n",
    "    paper_bgcolor='black',\n",
    "    font_color='white',\n",
    "    title_font={'size':16},\n",
    "    margin=dict(l=10,r=10,t=30,b=10)\n",
    ")\n",
    "#fig1.update_traces(marker=dict(pattern=dict(line=dict(color='white',width=1))))\n",
    "save_plot_as_html(fig2,\"Type Graph 2.html\",\"Most apps on the Playstore are free, indicating a strategy to attract users first and monetize through ads or in app purchases\")"
   ]
  },
  {
   "cell_type": "code",
   "execution_count": 44,
   "id": "a8cbf748",
   "metadata": {},
   "outputs": [],
   "source": [
    "#Figure 3\n",
    "fig3=px.histogram(\n",
    "    apps_df,\n",
    "    x='Rating',\n",
    "    nbins=20,\n",
    "    title='Rating Distribution',\n",
    "    color_discrete_sequence=['#636EFA'],\n",
    "    width=400,\n",
    "    height=300\n",
    ")\n",
    "fig3.update_layout(\n",
    "    plot_bgcolor='black',\n",
    "    paper_bgcolor='black',\n",
    "    font_color='white',\n",
    "    title_font={'size':16},\n",
    "    xaxis=dict(title_font={'size':12}),\n",
    "    yaxis=dict(title_font={'size':12}),\n",
    "    margin=dict(l=10,r=10,t=30,b=10)\n",
    ")\n",
    "#fig1.update_traces(marker=dict(pattern=dict(line=dict(color='white',width=1))))\n",
    "save_plot_as_html(fig3,\"Rating Graph 3.html\",\"Ratings are skewed towards higher values, suggesting that most apps are rated favorably by users\")"
   ]
  },
  {
   "cell_type": "code",
   "execution_count": 45,
   "id": "ce6d8f8b",
   "metadata": {},
   "outputs": [],
   "source": [
    "#Figure 4\n",
    "sentiment_counts=reviews_df['Sentiment_Score'].value_counts()\n",
    "fig4=px.bar(\n",
    "    x=sentiment_counts.index,\n",
    "    y=sentiment_counts.values,\n",
    "    labels={'x':'Sentiment Score','y':'Count'},\n",
    "    title='Sentiment Distribution',\n",
    "    color=sentiment_counts.index,\n",
    "    color_discrete_sequence=px.colors.sequential.RdPu,\n",
    "    width=400,\n",
    "    height=300\n",
    ")\n",
    "fig4.update_layout(\n",
    "    plot_bgcolor='black',\n",
    "    paper_bgcolor='black',\n",
    "    font_color='white',\n",
    "    title_font={'size':16},\n",
    "    xaxis=dict(title_font={'size':12}),\n",
    "    yaxis=dict(title_font={'size':12}),\n",
    "    margin=dict(l=10,r=10,t=30,b=10)\n",
    ")\n",
    "#fig1.update_traces(marker=dict(pattern=dict(line=dict(color='white',width=1))))\n",
    "save_plot_as_html(fig4,\"Sentiment Graph 4.html\",\"Sentiments in reviews show a mix of positive and negative feedback, with a slight lean towards positive sentiments\")"
   ]
  },
  {
   "cell_type": "code",
   "execution_count": 46,
   "id": "98b0f4af",
   "metadata": {},
   "outputs": [],
   "source": [
    "#Figure 5\n",
    "installs_by_category=apps_df.groupby('Category')['Installs'].sum().nlargest(10)\n",
    "fig5=px.bar(\n",
    "    x=installs_by_category.index,\n",
    "    y=installs_by_category.values,\n",
    "    orientation='h',\n",
    "    labels={'x':'Installs','y':'Category'},\n",
    "    title='Installs by Category',\n",
    "    color=installs_by_category.index,\n",
    "    color_discrete_sequence=px.colors.sequential.Blues,\n",
    "    width=400,\n",
    "    height=300\n",
    ")\n",
    "fig5.update_layout(\n",
    "    plot_bgcolor='black',\n",
    "    paper_bgcolor='black',\n",
    "    font_color='white',\n",
    "    title_font={'size':16},\n",
    "    xaxis=dict(title_font={'size':12}),\n",
    "    yaxis=dict(title_font={'size':12}),\n",
    "    margin=dict(l=10,r=10,t=30,b=10)\n",
    ")\n",
    "#fig1.update_traces(marker=dict(pattern=dict(line=dict(color='white',width=1))))\n",
    "save_plot_as_html(fig5,\"Installs Graph 5.html\",\"The categories with the most installs are social and communication apps, reflecting their broad appeal and daily usage\")"
   ]
  },
  {
   "cell_type": "code",
   "execution_count": 47,
   "id": "53e2da79",
   "metadata": {},
   "outputs": [],
   "source": [
    "# Figure 6\n",
    "updates_per_year = apps_df['Last Updated'].dt.year.value_counts().sort_index()\n",
    "fig6 = px.line(\n",
    "    x=updates_per_year.index,\n",
    "    y=updates_per_year.values,\n",
    "    labels={'x': 'Year', 'y': 'Number of Updates'},\n",
    "    title='Number of Updates Over the Years',\n",
    "    color_discrete_sequence=['#AB63FA'],\n",
    "    width=plot_width,\n",
    "    height=plot_height\n",
    ")\n",
    "fig6.update_layout(\n",
    "    plot_bgcolor=plot_bg_color,\n",
    "    paper_bgcolor=plot_bg_color,\n",
    "    font_color=text_color,\n",
    "    title_font=title_font,\n",
    "    xaxis=dict(title_font=axis_font),\n",
    "    yaxis=dict(title_font=axis_font),\n",
    "    margin=dict(l=10, r=10, t=30, b=10)\n",
    ")\n",
    "save_plot_as_html(fig6, \"Updates Graph 6.html\", \"Updates have been increasing over the years, showing that developers are actively maintaining and improving their apps.\")"
   ]
  },
  {
   "cell_type": "code",
   "execution_count": 48,
   "id": "d4a18d7f",
   "metadata": {},
   "outputs": [],
   "source": [
    "#Figure 7\n",
    "revenue_by_category=apps_df.groupby('Category')['Revenue'].sum().nlargest(10)\n",
    "fig7=px.bar(\n",
    "    x=installs_by_category.index,\n",
    "    y=installs_by_category.values,\n",
    "    labels={'x':'Category','y':'Revenue'},\n",
    "    title='Revenue by Category',\n",
    "    color=installs_by_category.index,\n",
    "    color_discrete_sequence=px.colors.sequential.Greens,\n",
    "    width=400,\n",
    "    height=300\n",
    ")\n",
    "fig7.update_layout(\n",
    "    plot_bgcolor='black',\n",
    "    paper_bgcolor='black',\n",
    "    font_color='white',\n",
    "    title_font={'size':16},\n",
    "    xaxis=dict(title_font={'size':12}),\n",
    "    yaxis=dict(title_font={'size':12}),\n",
    "    margin=dict(l=10,r=10,t=30,b=10)\n",
    ")\n",
    "#fig1.update_traces(marker=dict(pattern=dict(line=dict(color='white',width=1))))\n",
    "save_plot_as_html(fig7,\"Revenue Graph 7.html\",\"Categories such as Business and Productivity lead in revenue generation, indicating their monetization potential\")"
   ]
  },
  {
   "cell_type": "code",
   "execution_count": 49,
   "id": "fd5e40b6",
   "metadata": {},
   "outputs": [],
   "source": [
    "#Figure 8\n",
    "genre_counts=apps_df['Genres'].str.split(';',expand=True).stack().value_counts().nlargest(10)\n",
    "fig8=px.bar(\n",
    "    x=genre_counts.index,\n",
    "    y=genre_counts.values,\n",
    "    labels={'x':'Genre','y':'Count'},\n",
    "    title='Top Genres',\n",
    "    color=installs_by_category.index,\n",
    "    color_discrete_sequence=px.colors.sequential.OrRd,\n",
    "    width=400,\n",
    "    height=300\n",
    ")\n",
    "fig8.update_layout(\n",
    "    plot_bgcolor='black',\n",
    "    paper_bgcolor='black',\n",
    "    font_color='white',\n",
    "    title_font={'size':16},\n",
    "    xaxis=dict(title_font={'size':12}),\n",
    "    yaxis=dict(title_font={'size':12}),\n",
    "    margin=dict(l=10,r=10,t=30,b=10)\n",
    ")\n",
    "#fig1.update_traces(marker=dict(pattern=dict(line=dict(color='white',width=1))))\n",
    "save_plot_as_html(fig8,\"Genre Graph 8.html\",\"Action and Casual genres are the most common, reflecting users' preference for engaging and easy-to-play games\")"
   ]
  },
  {
   "cell_type": "code",
   "execution_count": 50,
   "id": "272a31c7",
   "metadata": {},
   "outputs": [],
   "source": [
    "#Figure 9\n",
    "fig9=px.scatter(\n",
    "    apps_df,\n",
    "    x='Last Updated',\n",
    "    y='Rating',\n",
    "    color='Type',\n",
    "    title='Impact of Last Update on Rating',\n",
    "    color_discrete_sequence=px.colors.qualitative.Vivid,\n",
    "    width=400,\n",
    "    height=300\n",
    ")\n",
    "fig9.update_layout(\n",
    "    plot_bgcolor='black',\n",
    "    paper_bgcolor='black',\n",
    "    font_color='white',\n",
    "    title_font={'size':16},\n",
    "    xaxis=dict(title_font={'size':12}),\n",
    "    yaxis=dict(title_font={'size':12}),\n",
    "    margin=dict(l=10,r=10,t=30,b=10)\n",
    ")\n",
    "#fig1.update_traces(marker=dict(pattern=dict(line=dict(color='white',width=1))))\n",
    "save_plot_as_html(fig9,\"Update Graph 9.html\",\"The Scatter Plot shows a weak correlation between the last update and ratings, suggesting that more frequent updates dont always result in better ratings.\")"
   ]
  },
  {
   "cell_type": "code",
   "execution_count": 51,
   "id": "6014f065",
   "metadata": {},
   "outputs": [],
   "source": [
    "#Figure 10\n",
    "fig10=px.box(\n",
    "    apps_df,\n",
    "    x='Type',\n",
    "    y='Rating',\n",
    "    color='Type',\n",
    "    title='Rating for Paid vs Free Apps',\n",
    "    color_discrete_sequence=px.colors.qualitative.Pastel,\n",
    "    width=400,\n",
    "    height=300\n",
    ")\n",
    "fig10.update_layout(\n",
    "    plot_bgcolor='black',\n",
    "    paper_bgcolor='black',\n",
    "    font_color='white',\n",
    "    title_font={'size':16},\n",
    "    xaxis=dict(title_font={'size':12}),\n",
    "    yaxis=dict(title_font={'size':12}),\n",
    "    margin=dict(l=10,r=10,t=30,b=10)\n",
    ")\n",
    "#fig1.update_traces(marker=dict(pattern=dict(line=dict(color='white',width=1))))\n",
    "save_plot_as_html(fig10,\"Paid Free Graph 10.html\",\"Paid apps generally have higher ratings compared to free apps, suggesting that users expect higher quality from apps they pay for\")"
   ]
  },
  {
   "cell_type": "code",
   "execution_count": 52,
   "id": "b8577dbc",
   "metadata": {},
   "outputs": [],
   "source": [
    "plot_containers_split=plot_containers.split('</div>')"
   ]
  },
  {
   "cell_type": "code",
   "execution_count": 53,
   "id": "992e1852",
   "metadata": {},
   "outputs": [],
   "source": [
    "if len(plot_containers_split) > 1:\n",
    "    final_plot=plot_containers_split[-2]+'</div>'\n",
    "else:\n",
    "    final_plot=plot_containers"
   ]
  },
  {
   "cell_type": "code",
   "execution_count": 54,
   "id": "551575e7",
   "metadata": {},
   "outputs": [],
   "source": [
    "dashboard_html= \"\"\"\n",
    "<!DOCTYPE html>\n",
    "<html lang=\"en\">\n",
    "<head>\n",
    "    <meta charset=\"UTF-8\">\n",
    "    <meta name=viewport\" content=\"width=device-width,initial-scale-1.0\">\n",
    "    <title> Google Play Store Review Analytics</title>\n",
    "    <style>\n",
    "        body {{\n",
    "            font-family: Arial, sans-serif;\n",
    "            background-color: #333;\n",
    "            color: #fff;\n",
    "            margin: 0;\n",
    "            padding: 0;\n",
    "        }}\n",
    "        .header {{\n",
    "            display: flex;\n",
    "            align-items: center;\n",
    "            justify-content: center;\n",
    "            padding: 20px;\n",
    "            background-color: #444\n",
    "        }}\n",
    "        .header img {{\n",
    "            margin: 0 10px;\n",
    "            height: 50px;\n",
    "        }}\n",
    "        .container {{\n",
    "            display: flex;\n",
    "            flex-wrap: wrap;\n",
    "            justify_content: center;\n",
    "            padding: 20px;\n",
    "        }}\n",
    "        .plot-container {{\n",
    "            border: 2px solid #555\n",
    "            margin: 10px;\n",
    "            padding: 10px;\n",
    "            width: {plot_width}px;\n",
    "            height: {plot_height}px;\n",
    "            overflow: hidden;\n",
    "            position: relative;\n",
    "            cursor: pointer;\n",
    "        }}\n",
    "        .insights {{\n",
    "            display: none;\n",
    "            position: absolute;\n",
    "            right: 10px;\n",
    "            top: 10px;\n",
    "            background-color: rgba(0,0,0,0.7);\n",
    "            padding: 5px;\n",
    "            border-radius: 5px;\n",
    "            color: #fff;\n",
    "        }}\n",
    "        .plot-container: hover .insights {{\n",
    "            display: block;\n",
    "        }}\n",
    "        </style>\n",
    "        <script>\n",
    "            function openPlot(filename) {{\n",
    "                window.open(filename, '_blank');\n",
    "                }}\n",
    "        </script>\n",
    "    </head>\n",
    "    <body>\n",
    "        <div class= \"header\">\n",
    "            <img src=\"https://upload.wikimedia.org/wikipedia/commons/thumb/4/4a/Logo_2013_Google.png/800px-Logo_2013_Google.png\" alt=\"Google Logo\">\n",
    "            <h1>Google Play Store Reviews Analytics</h1>\n",
    "            <img src=\"https://upload.wikimedia.org/wikipedia/commons/thumb/7/78/Google_Play_Store_badge_EN.svg/1024px-Google_Play_Store_badge_EN.svg.png\" alt=\"Google Play Store Logo\">\n",
    "        </div>\n",
    "        <div class=\"container\">\n",
    "            {plots}\n",
    "        </div>\n",
    "    </body>\n",
    "    </html>\n",
    "    \"\"\""
   ]
  },
  {
   "cell_type": "code",
   "execution_count": 55,
   "id": "1188cb21",
   "metadata": {},
   "outputs": [],
   "source": [
    "final_html=dashboard_html.format(plots=plot_containers,plot_width=plot_width,plot_height=plot_height)"
   ]
  },
  {
   "cell_type": "code",
   "execution_count": 56,
   "id": "81e11b66",
   "metadata": {},
   "outputs": [],
   "source": [
    "dashboard_path=os.path.join(html_files_path,\"web page.html\")"
   ]
  },
  {
   "cell_type": "code",
   "execution_count": 57,
   "id": "b86a6107",
   "metadata": {},
   "outputs": [],
   "source": [
    "with open(dashboard_path, \"w\", encoding=\"utf-8\") as f:\n",
    "    f.write(final_html)"
   ]
  },
  {
   "cell_type": "code",
   "execution_count": 58,
   "id": "84f863c5",
   "metadata": {},
   "outputs": [
    {
     "data": {
      "text/plain": [
       "True"
      ]
     },
     "execution_count": 58,
     "metadata": {},
     "output_type": "execute_result"
    }
   ],
   "source": [
    "webbrowser.open('file://'+os.path.realpath(dashboard_path))"
   ]
  },
  {
   "cell_type": "code",
   "execution_count": 4,
   "id": "92688150",
   "metadata": {},
   "outputs": [],
   "source": [
    "import matplotlib.pyplot as plt\n",
    "import plotly.graph_objects as go\n",
    "import datetime\n",
    "import pytz"
   ]
  },
  {
   "cell_type": "code",
   "execution_count": 66,
   "id": "0c293825",
   "metadata": {},
   "outputs": [],
   "source": [
    "# Columns: ['Category', 'Installs', 'Rating', 'Reviews', 'Size', 'Last Updated']\n",
    "\n",
    "# ---- Filter Data ----\n",
    "def preprocess_data(apps_df):\n",
    "    # Convert Size to numeric (remove 'M' and convert to float)\n",
    "    apps_df['Size'] = apps_df['Size'].str.replace('M', '', regex=False)\n",
    "    apps_df['Size'] = pd.to_numeric(apps_df['Size'], errors='coerce')\n",
    "\n",
    "    # Convert Last Updated to datetime\n",
    "    apps_df['Last Updated'] = pd.to_datetime(apps_df['Last Updated'], errors='coerce')\n",
    "\n",
    "    # Filter conditions\n",
    "    apps_df = apps_df[(df['Rating'] >= 4.0) &\n",
    "            (apps_df['Size'] >= 10) &\n",
    "            (apps_df['Last Updated'].dt.month == 1)]\n",
    "\n",
    "    # Aggregate by Category\n",
    "    grouped = apps_df.groupby('Category').agg(\n",
    "        Avg_Rating=('Rating', 'mean'),\n",
    "        Total_Reviews=('Reviews', 'sum'),\n",
    "        Total_Installs=('Installs', 'sum')\n",
    "    ).reset_index()\n",
    "\n",
    "    # Select top 10 categories by installs\n",
    "    top10 = grouped.sort_values(by='Total_Installs', ascending=False).head(10)\n",
    "    return top10\n",
    "\n",
    "# ---- Visualization ----\n",
    "def plot_grouped_bar(top10):\n",
    "    x = range(len(top10))\n",
    "    width = 0.35\n",
    "\n",
    "    fig, ax1 = plt.subplots(figsize=(12, 6))\n",
    "\n",
    "    ax1.bar([i - width/2 for i in x], top10['Avg_Rating'], width, label='Avg Rating')\n",
    "    ax1.bar([i + width/2 for i in x], top10['Total_Reviews'], width, label='Total Reviews')\n",
    "\n",
    "    ax1.set_xticks(x)\n",
    "    ax1.set_xticklabels(top10['Category'], rotation=45, ha='right')\n",
    "    ax1.set_ylabel(\"Value\")\n",
    "    ax1.set_title(\"Top 10 App Categories by Installs (Filtered)\")\n",
    "    ax1.legend()\n",
    "\n",
    "    plt.tight_layout()\n",
    "    plt.show()\n",
    "\n",
    "# ---- Time Restriction (3 PM - 5 PM IST) ----\n",
    "def show_chart(apps_df):\n",
    "    ist = pytz.timezone('Asia/Kolkata')\n",
    "    now = datetime.now(ist)\n",
    "\n",
    "    if 15 <= now.hour < 17:  # 3 PM to 5 PM\n",
    "        top10 = preprocess_data(apps_df)\n",
    "        if not top10.empty:\n",
    "            plot_grouped_bar(top10)\n",
    "        else:\n",
    "            print(\"No data available after filtering.\")\n",
    "    else:\n",
    "        print(\"Chart not available at this time. (Allowed: 3 PM - 5 PM IST)\")\n",
    "\n"
   ]
  },
  {
   "cell_type": "code",
   "execution_count": 6,
   "id": "931c1c1f",
   "metadata": {},
   "outputs": [],
   "source": [
    "# Sample columns assumed:\n",
    "# ['Category', 'Installs', 'Country']\n",
    "\n",
    "def preprocess_data(apps_df):\n",
    "    # Filter out categories starting with A, C, G, or S\n",
    "    apps_df = apps_df[~apps_df['Category'].str.startswith(('A', 'C', 'G', 'S'))]\n",
    "\n",
    "    # Aggregate installs by Category & Country\n",
    "    grouped = apps_df.groupby(['Category', 'Country'], as_index=False).agg(\n",
    "        Total_Installs=('Installs', 'sum')\n",
    "    )\n",
    "\n",
    "    # Select top 5 categories by installs globally\n",
    "    top_categories = (\n",
    "        grouped.groupby('Category')['Total_Installs']\n",
    "        .sum()\n",
    "        .sort_values(ascending=False)\n",
    "        .head(5)\n",
    "        .index\n",
    "    )\n",
    "    filtered = grouped[grouped['Category'].isin(top_categories)]\n",
    "\n",
    "    # Add highlight column (installs > 1M)\n",
    "    filtered['Highlight'] = filtered['Total_Installs'].apply(\n",
    "        lambda x: \"Highlighted\" if x > 1_000_000 else \"Normal\"\n",
    "    )\n",
    "\n",
    "    return filtered\n",
    "\n",
    "\n",
    "def plot_choropleth(filtered):\n",
    "    fig = px.choropleth(\n",
    "        filtered,\n",
    "        locations=\"Country\",\n",
    "        locationmode=\"country names\",\n",
    "        color=\"Total_Installs\",\n",
    "        hover_name=\"Category\",\n",
    "        facet_col=\"Category\",\n",
    "        color_continuous_scale=\"Blues\",\n",
    "        title=\"Global Installs by Top 5 App Categories (Filtered)\"\n",
    "    )\n",
    "\n",
    "    fig.update_traces(marker_line_width=0.5, marker_line_color=\"black\")\n",
    "\n",
    "    fig.show()\n",
    "\n",
    "\n",
    "def show_map(apps_df):\n",
    "    # Time restriction: 6 PM – 8 PM IST\n",
    "    ist = pytz.timezone(\"Asia/Kolkata\")\n",
    "    now = datetime.now(ist)\n",
    "\n",
    "    if 18 <= now.hour < 20:\n",
    "        filtered = preprocess_data(apps_df)\n",
    "        if not filtered.empty:\n",
    "            plot_choropleth(filtered)\n",
    "        else:\n",
    "            print(\"No data available after filtering.\")\n",
    "    else:\n",
    "        print(\"Choropleth map not available at this time. (Allowed: 6 PM - 8 PM IST)\")\n"
   ]
  },
  {
   "cell_type": "code",
   "execution_count": 6,
   "id": "492a9eb0",
   "metadata": {},
   "outputs": [],
   "source": [
    "def preprocess_data(apps_df):\n",
    "    # Convert Size to numeric (remove 'M')\n",
    "    apps_df['Size'] = apps_df['Size'].str.replace('M', '', regex=False)\n",
    "    apps_df['Size'] = pd.to_numeric(apps_df['Size'], errors='coerce')\n",
    "\n",
    "    # Convert Android version to numeric\n",
    "    apps_df['Android Version'] = pd.to_numeric(apps_df['Android Version'], errors='coerce')\n",
    "\n",
    "    # Apply filters\n",
    "    apps_df= apps_df[(apps_df['Installs'] >= 10000) &\n",
    "            (apps_df['Revenue'] >= 10000) &\n",
    "            (apps_df['Android Version'] > 4.0) &\n",
    "            (apps_df['Size'] > 15) &\n",
    "            (apps_df['Content Rating'] == \"Everyone\") &\n",
    "            (apps_df['App'].str.len() <= 30)]\n",
    "\n",
    "    # Find top 3 categories by installs\n",
    "    top_categories = (\n",
    "        apps_df.groupby('Category')['Installs']\n",
    "        .sum()\n",
    "        .sort_values(ascending=False)\n",
    "        .head(3)\n",
    "        .index\n",
    "    )\n",
    "    apps_df= apps_df[apps_df['Category'].isin(top_categories)]\n",
    "\n",
    "    # Group by Free vs Paid within each category\n",
    "    grouped =apps_df.groupby(['Category', 'Type']).agg(\n",
    "        Avg_Installs=('Installs', 'mean'),\n",
    "        Avg_Revenue=('Revenue', 'mean')\n",
    "    ).reset_index()\n",
    "\n",
    "    return grouped\n",
    "\n",
    "\n",
    "def plot_dual_axis(grouped):\n",
    "    categories = grouped['Category'].unique()\n",
    "    fig, ax1 = plt.subplots(figsize=(12, 6))\n",
    "\n",
    "    for category in categories:\n",
    "        subset = grouped[grouped['Category'] == category]\n",
    "\n",
    "        x = subset['Type']  # Free vs Paid\n",
    "        ax1.bar(x + \" (\" + category + \")\", subset['Avg_Installs'],\n",
    "                alpha=0.6, label=f\"Installs - {category}\")\n",
    "\n",
    "        # Second axis for Revenue\n",
    "        ax2 = ax1.twinx()\n",
    "        ax2.plot(x + \" (\" + category + \")\", subset['Avg_Revenue'],\n",
    "                 marker='o', label=f\"Revenue - {category}\", linewidth=2)\n",
    "\n",
    "    ax1.set_ylabel(\"Average Installs\", color=\"blue\")\n",
    "    ax2.set_ylabel(\"Average Revenue\", color=\"red\")\n",
    "    ax1.set_title(\"Dual-Axis Chart: Installs vs Revenue (Free vs Paid, Top 3 Categories)\")\n",
    "\n",
    "    # Combine legends\n",
    "    h1, l1 = ax1.get_legend_handles_labels()\n",
    "    h2, l2 = ax2.get_legend_handles_labels()\n",
    "    ax1.legend(h1 + h2, l1 + l2, loc=\"upper left\")\n",
    "\n",
    "    plt.xticks(rotation=45, ha='right')\n",
    "    plt.tight_layout()\n",
    "    plt.show()\n",
    "\n",
    "\n",
    "def show_chart(apps_df):\n",
    "    # Time restriction: 1 PM – 2 PM IST\n",
    "    ist = pytz.timezone(\"Asia/Kolkata\")\n",
    "    now = datetime.now(ist)\n",
    "\n",
    "    if 13 <= now.hour < 14:\n",
    "        grouped = preprocess_data(apps_df)\n",
    "        if not grouped.empty:\n",
    "            plot_dual_axis(grouped)\n",
    "        else:\n",
    "            print(\"No data available after filtering.\")\n",
    "    else:\n",
    "        print(\"Chart not available at this time. (Allowed: 1 PM - 2 PM IST)\")\n"
   ]
  },
  {
   "cell_type": "code",
   "execution_count": 5,
   "id": "c89c6d16",
   "metadata": {},
   "outputs": [],
   "source": [
    "def preprocess_data(apps_df):\n",
    "    # Ensure Date is datetime\n",
    "    apps_df['Date'] = pd.to_datetime(apps_df['Date'], errors='coerce')\n",
    "\n",
    "    # Apply filters\n",
    "    apps_df = apps_df[~apps_df['App'].str.startswith(('x', 'y', 'z'), case=False)]\n",
    "    apps_df = apps_df[~apps_df['App'].str.contains(\"S\", case=False)]\n",
    "    apps_df = apps_df[apps_df['Reviews'] > 500]\n",
    "    apps_df = apps_df[apps_df['Category'].str.startswith(('E', 'C', 'B'))]\n",
    "\n",
    "    # Translate categories\n",
    "    translations = {\n",
    "        \"Beauty\": \"सौंदर्य\",      # Hindi\n",
    "        \"Business\": \"வணிகம்\",    # Tamil\n",
    "        \"Dating\": \"Partnersuche\" # German\n",
    "    }\n",
    "    apps_df['Category'] = apps_df['Category'].replace(translations)\n",
    "\n",
    "    # Group by month and category\n",
    "    apps_df['Month'] = apps_df['Date'].dt.to_period('M')\n",
    "    grouped = apps_df.groupby(['Month', 'Category']).agg(\n",
    "        Total_Installs=('Installs', 'sum')\n",
    "    ).reset_index()\n",
    "\n",
    "    # Convert back Month to datetime for plotting\n",
    "    grouped['Month'] = grouped['Month'].dt.to_timestamp()\n",
    "\n",
    "    return grouped\n",
    "\n",
    "\n",
    "def plot_time_series(grouped):\n",
    "    plt.figure(figsize=(12, 6))\n",
    "\n",
    "    for category in grouped['Category'].unique():\n",
    "        subset = grouped[grouped['Category'] == category].sort_values('Month')\n",
    "\n",
    "        # Plot line\n",
    "        plt.plot(subset['Month'], subset['Total_Installs'], label=category, linewidth=2)\n",
    "\n",
    "        # Calculate MoM growth\n",
    "        subset['pct_change'] = subset['Total_Installs'].pct_change()\n",
    "\n",
    "        # Shade areas where growth > 20%\n",
    "        growth_periods = subset[subset['pct_change'] > 0.2]\n",
    "        for _, row in growth_periods.iterrows():\n",
    "            plt.fill_between(\n",
    "                [row['Month'] - pd.offsets.MonthBegin(0), row['Month']],\n",
    "                0, row['Total_Installs'],\n",
    "                alpha=0.2\n",
    "            )\n",
    "\n",
    "    plt.title(\"Trend of Total Installs Over Time by Category\")\n",
    "    plt.xlabel(\"Month\")\n",
    "    plt.ylabel(\"Total Installs\")\n",
    "    plt.legend(title=\"App Category\")\n",
    "    plt.grid(True)\n",
    "    plt.tight_layout()\n",
    "    plt.show()\n",
    "\n",
    "\n",
    "def show_chart(apps_df):\n",
    "    # Time restriction: 6 PM – 9 PM IST\n",
    "    ist = pytz.timezone(\"Asia/Kolkata\")\n",
    "    now = datetime.now(ist)\n",
    "\n",
    "    if 18 <= now.hour < 21:\n",
    "        grouped = preprocess_data(apps_df)\n",
    "        if not grouped.empty:\n",
    "            plot_time_series(grouped)\n",
    "        else:\n",
    "            print(\"No data available after filtering.\")\n",
    "    else:\n",
    "        print(\"Chart not available at this time. (Allowed: 6 PM - 9 PM IST)\")\n"
   ]
  },
  {
   "cell_type": "code",
   "execution_count": 6,
   "id": "ca1dd307",
   "metadata": {},
   "outputs": [],
   "source": [
    "def preprocess_data(apps_df):\n",
    "    # Clean Size column (assume stored as string with 'M')\n",
    "    apps_df['Size'] = apps_df['Size'].astype(str).str.replace('M', '', regex=False)\n",
    "    apps_df['Size'] = pd.to_numeric(apps_df['Size'], errors='coerce')\n",
    "\n",
    "    # Apply filters\n",
    "    allowed_categories = [\n",
    "        \"Game\", \"Beauty\", \"Business\", \"Comics\", \"Communication\",\n",
    "        \"Dating\", \"Entertainment\", \"Social\", \"Event\"\n",
    "    ]\n",
    "    apps_df = apps_df[apps_df['Category'].isin(allowed_categories)]\n",
    "    apps_df = apps_df[apps_df['Rating'] > 3.5]\n",
    "    apps_df = apps_df[apps_df['Reviews'] > 500]\n",
    "    apps_df = apps_df[apps_df['Installs'] > 50000]\n",
    "    apps_df = apps_df[apps_df['Sentiment_Subjectivity'] > 0.5]\n",
    "    apps_df = apps_df[~apps_df['App'].str.contains(\"S\", case=False, na=False)]\n",
    "\n",
    "    # Translate categories\n",
    "    translations = {\n",
    "        \"Beauty\": \"सौंदर्य\",       # Hindi\n",
    "        \"Business\": \"வணிகம்\",     # Tamil\n",
    "        \"Dating\": \"Partnersuche\"  # German\n",
    "    }\n",
    "    apps_df['Category'] = apps_df['Category'].replace(translations)\n",
    "\n",
    "    return apps_df\n",
    "\n",
    "\n",
    "def plot_bubble_chart(apps_df):\n",
    "    plt.figure(figsize=(12, 7))\n",
    "\n",
    "    categories = apps_df['Category'].unique()\n",
    "\n",
    "    for category in categories:\n",
    "        subset = apps_df[apps_df['Category'] == category]\n",
    "\n",
    "        # Color mapping: Game = Pink, others = Blue\n",
    "        color = \"pink\" if category == \"Game\" else \"skyblue\"\n",
    "\n",
    "        plt.scatter(\n",
    "            subset['Size'], subset['Rating'],\n",
    "            s=subset['Installs'] / 1000,  # scale installs for bubble size\n",
    "            alpha=0.6, c=color, edgecolors=\"k\", label=category\n",
    "        )\n",
    "\n",
    "    plt.title(\"Bubble Chart: App Size vs Rating (Bubble = Installs)\")\n",
    "    plt.xlabel(\"App Size (MB)\")\n",
    "    plt.ylabel(\"Average Rating\")\n",
    "    plt.legend(title=\"Category\", bbox_to_anchor=(1.05, 1), loc='upper left')\n",
    "    plt.grid(True, linestyle=\"--\", alpha=0.6)\n",
    "    plt.tight_layout()\n",
    "    plt.show()\n",
    "\n",
    "\n",
    "def show_chart(apps_df):\n",
    "    # Time restriction: 5 PM – 7 PM IST\n",
    "    ist = pytz.timezone(\"Asia/Kolkata\")\n",
    "    now = datetime.now(ist)\n",
    "\n",
    "    if 17 <= now.hour < 19:\n",
    "        filtered = preprocess_data(apps_df)\n",
    "        if not filtered.empty:\n",
    "            plot_bubble_chart(filtered)\n",
    "        else:\n",
    "            print(\"No data available after filtering.\")\n",
    "    else:\n",
    "        print(\"Chart not available at this time. (Allowed: 5 PM - 7 PM IST)\")\n"
   ]
  },
  {
   "cell_type": "code",
   "execution_count": 7,
   "id": "f4d0a0ec",
   "metadata": {},
   "outputs": [],
   "source": [
    "def preprocess_data(apps_df):\n",
    "    # Convert Size column\n",
    "    apps_df['Size'] = apps_df['Size'].astype(str).str.replace('M', '', regex=False)\n",
    "    apps_df['Size'] = pd.to_numeric(apps_df['Size'], errors='coerce')\n",
    "\n",
    "    # Convert Date to datetime\n",
    "    apps_df['Date'] = pd.to_datetime(apps_df['Date'], errors='coerce')\n",
    "\n",
    "    # Apply filters\n",
    "    apps_df = apps_df[apps_df['Rating'] >= 4.2]\n",
    "    apps_df = apps_df[~apps_df['App'].str.contains(r'\\d')]  # remove apps with numbers in name\n",
    "    apps_df = apps_df[apps_df['Category'].str.startswith(('T', 'P'))]\n",
    "    apps_df = apps_df[apps_df['Reviews'] > 1000]\n",
    "    apps_df = apps_df[(apps_df['Size'] >= 20) & (apps_df['Size'] <= 80)]\n",
    "\n",
    "    # Translate categories\n",
    "    translations = {\n",
    "        \"Travel & Local\": \"Voyage et Local\",   # French\n",
    "        \"Productivity\": \"Productividad\",       # Spanish\n",
    "        \"Photography\": \"写真\"                   # Japanese\n",
    "    }\n",
    "    apps_df['Category'] = apps_df['Category'].replace(translations)\n",
    "\n",
    "    # Group by month + category\n",
    "    apps_df['Month'] = apps_df['Date'].dt.to_period('M')\n",
    "    grouped = apps_df.groupby(['Month', 'Category']).agg(\n",
    "        Total_Installs=('Installs', 'sum')\n",
    "    ).reset_index()\n",
    "\n",
    "    grouped['Month'] = grouped['Month'].dt.to_timestamp()\n",
    "\n",
    "    # Pivot for stacked area chart\n",
    "    pivot = grouped.pivot(index='Month', columns='Category', values='Total_Installs').fillna(0)\n",
    "\n",
    "    return pivot\n",
    "\n",
    "\n",
    "def plot_stacked_area(pivot):\n",
    "    plt.figure(figsize=(12, 7))\n",
    "\n",
    "    # Calculate cumulative installs\n",
    "    cumulative = pivot.cumsum()\n",
    "\n",
    "    # Detect growth >25% month-over-month\n",
    "    pct_change = pivot.pct_change().fillna(0)\n",
    "\n",
    "    # Plot stacked area\n",
    "    ax = cumulative.plot.area(alpha=0.7, figsize=(12, 7))\n",
    "\n",
    "    # Highlight months with >25% growth in any category\n",
    "    highlight_months = pct_change[pct_change > 0.25].dropna(how='all').index\n",
    "\n",
    "    for month in highlight_months:\n",
    "        ax.axvspan(month, month + pd.offsets.MonthEnd(0), color=\"yellow\", alpha=0.2)\n",
    "\n",
    "    plt.title(\"Cumulative Installs Over Time by Category (Stacked Area Chart)\")\n",
    "    plt.xlabel(\"Month\")\n",
    "    plt.ylabel(\"Cumulative Installs\")\n",
    "    plt.legend(title=\"App Category\", bbox_to_anchor=(1.05, 1), loc=\"upper left\")\n",
    "    plt.tight_layout()\n",
    "    plt.show()\n",
    "\n",
    "\n",
    "def show_chart(apps_df):\n",
    "    # Time restriction: 4 PM – 6 PM IST\n",
    "    ist = pytz.timezone(\"Asia/Kolkata\")\n",
    "    now = datetime.now(ist)\n",
    "\n",
    "    if 16 <= now.hour < 18:\n",
    "        pivot = preprocess_data(apps_df)\n",
    "        if not pivot.empty:\n",
    "            plot_stacked_area(pivot)\n",
    "        else:\n",
    "            print(\"No data available after filtering.\")\n",
    "    else:\n",
    "        print(\"Chart not available at this time. (Allowed: 4 PM - 6 PM IST)\")\n"
   ]
  },
  {
   "cell_type": "code",
   "execution_count": null,
   "id": "e1c0fc17",
   "metadata": {},
   "outputs": [],
   "source": []
  }
 ],
 "metadata": {
  "kernelspec": {
   "display_name": "Python 3",
   "language": "python",
   "name": "python3"
  },
  "language_info": {
   "codemirror_mode": {
    "name": "ipython",
    "version": 3
   },
   "file_extension": ".py",
   "mimetype": "text/x-python",
   "name": "python",
   "nbconvert_exporter": "python",
   "pygments_lexer": "ipython3",
   "version": "3.13.7"
  }
 },
 "nbformat": 4,
 "nbformat_minor": 5
}
